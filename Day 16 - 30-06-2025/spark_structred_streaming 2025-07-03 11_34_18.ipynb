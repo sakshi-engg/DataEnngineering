{
 "cells": [
  {
   "cell_type": "code",
   "execution_count": 0,
   "metadata": {
    "application/vnd.databricks.v1+cell": {
     "cellMetadata": {
      "byteLimit": 2048000,
      "rowLimit": 10000
     },
     "inputWidgets": {},
     "nuid": "6e091786-926f-4ed9-bfc3-dee14f40a8b9",
     "showTitle": false,
     "tableResultSettingsMap": {},
     "title": ""
    }
   },
   "outputs": [],
   "source": [
    "#Define schema for our sample streaming\n",
    "from pyspark.sql.types import StructType,StructField,IntegerType,StringType\n",
    "schema_defined=StructType([StructField('File',StringType(),True),\n",
    "                           StructField('Shop',StringType(),True),\n",
    "                           StructField('Sale_count',IntegerType(),True)\n",
    "                           ])"
   ]
  },
  {
   "cell_type": "code",
   "execution_count": 0,
   "metadata": {
    "application/vnd.databricks.v1+cell": {
     "cellMetadata": {
      "byteLimit": 2048000,
      "rowLimit": 10000
     },
     "inputWidgets": {},
     "nuid": "77fae58e-94d3-4798-850d-d5d86b69ecfe",
     "showTitle": false,
     "tableResultSettingsMap": {},
     "title": ""
    }
   },
   "outputs": [
    {
     "output_type": "execute_result",
     "data": {
      "text/plain": [
       "True"
      ]
     },
     "execution_count": 2,
     "metadata": {},
     "output_type": "execute_result"
    }
   ],
   "source": [
    "dbutils.fs.mkdirs(\"/FileStore/tables/stream_checkpoint/\")\n",
    "dbutils.fs.mkdirs(\"/FileStore/tables/stream_read/\")\n",
    "dbutils.fs.mkdirs(\"/FileStore/tables/stream_write/\")"
   ]
  },
  {
   "cell_type": "code",
   "execution_count": 0,
   "metadata": {
    "application/vnd.databricks.v1+cell": {
     "cellMetadata": {
      "byteLimit": 2048000,
      "rowLimit": 10000
     },
     "inputWidgets": {},
     "nuid": "4c1a09fd-d041-4e57-ad9e-1524c39caf6f",
     "showTitle": false,
     "tableResultSettingsMap": {},
     "title": ""
    }
   },
   "outputs": [],
   "source": [
    "df = spark.readStream \\\n",
    "    .format(\"csv\") \\\n",
    "    .schema(schema_defined) \\\n",
    "    .option('header', True) \\\n",
    "    .option(\"sep\", \",\") \\\n",
    "    .load('/FileStore/tables/stream_read/')"
   ]
  },
  {
   "cell_type": "code",
   "execution_count": 0,
   "metadata": {
    "application/vnd.databricks.v1+cell": {
     "cellMetadata": {
      "byteLimit": 2048000,
      "rowLimit": 10000
     },
     "inputWidgets": {},
     "nuid": "f1546789-7a73-44c6-8d21-d31753f53832",
     "showTitle": false,
     "tableResultSettingsMap": {},
     "title": ""
    }
   },
   "outputs": [],
   "source": [
    "df1 = df.groupBy('Shop').sum('Sale_count')"
   ]
  },
  {
   "cell_type": "code",
   "execution_count": 0,
   "metadata": {
    "application/vnd.databricks.v1+cell": {
     "cellMetadata": {
      "byteLimit": 2048000,
      "rowLimit": 10000
     },
     "inputWidgets": {},
     "nuid": "2339e5f8-7ae4-4350-8050-b5316794a5e2",
     "showTitle": false,
     "tableResultSettingsMap": {},
     "title": ""
    }
   },
   "outputs": [
    {
     "output_type": "execute_result",
     "data": {
      "text/plain": [
       "[FileInfo(path='dbfs:/FileStore/tables/stream_read/online_sales_1.csv', name='online_sales_1.csv', size=338, modificationTime=1751523041000),\n",
       " FileInfo(path='dbfs:/FileStore/tables/stream_read/online_sales_2.csv', name='online_sales_2.csv', size=338, modificationTime=1751523041000),\n",
       " FileInfo(path='dbfs:/FileStore/tables/stream_read/online_sales_3.csv', name='online_sales_3.csv', size=338, modificationTime=1751523041000),\n",
       " FileInfo(path='dbfs:/FileStore/tables/stream_read/online_sales_4.csv', name='online_sales_4.csv', size=332, modificationTime=1751523041000),\n",
       " FileInfo(path='dbfs:/FileStore/tables/stream_read/online_sales_5.csv', name='online_sales_5.csv', size=335, modificationTime=1751523041000)]"
      ]
     },
     "execution_count": 23,
     "metadata": {},
     "output_type": "execute_result"
    }
   ],
   "source": [
    "dbutils.fs.ls(\"/FileStore/tables/stream_read/\")"
   ]
  },
  {
   "cell_type": "code",
   "execution_count": 0,
   "metadata": {
    "application/vnd.databricks.v1+cell": {
     "cellMetadata": {
      "byteLimit": 2048000,
      "rowLimit": 10000
     },
     "inputWidgets": {},
     "nuid": "898f58c1-cf3e-440b-99d8-ca8de018021b",
     "showTitle": false,
     "tableResultSettingsMap": {},
     "title": ""
    }
   },
   "outputs": [
    {
     "output_type": "execute_result",
     "data": {
      "text/plain": [
       "[FileInfo(path='dbfs:/FileStore/tables/stream_read/online_sales_1.csv', name='online_sales_1.csv', size=338, modificationTime=1751523041000),\n",
       " FileInfo(path='dbfs:/FileStore/tables/stream_read/online_sales_2.csv', name='online_sales_2.csv', size=338, modificationTime=1751523041000),\n",
       " FileInfo(path='dbfs:/FileStore/tables/stream_read/online_sales_3.csv', name='online_sales_3.csv', size=338, modificationTime=1751523041000),\n",
       " FileInfo(path='dbfs:/FileStore/tables/stream_read/online_sales_4.csv', name='online_sales_4.csv', size=332, modificationTime=1751523041000),\n",
       " FileInfo(path='dbfs:/FileStore/tables/stream_read/online_sales_5.csv', name='online_sales_5.csv', size=335, modificationTime=1751523041000)]"
      ]
     },
     "execution_count": 5,
     "metadata": {},
     "output_type": "execute_result"
    }
   ],
   "source": [
    "dbutils.fs.ls(\"/FileStore/tables/stream_read/\")"
   ]
  },
  {
   "cell_type": "code",
   "execution_count": 0,
   "metadata": {
    "application/vnd.databricks.v1+cell": {
     "cellMetadata": {
      "byteLimit": 2048000,
      "rowLimit": 10000
     },
     "inputWidgets": {},
     "nuid": "7b077512-19cb-452b-82cd-869319df4f4f",
     "showTitle": false,
     "tableResultSettingsMap": {},
     "title": ""
    }
   },
   "outputs": [],
   "source": [
    "df4 = df.writeStream \\\n",
    "    .format(\"parquet\") \\\n",
    "    .outputMode(\"append\") \\\n",
    "    .option(\"path\", \"/FileStore/tables/stream_write/\") \\\n",
    "    .option(\"checkpointLocation\", \"/FileStore/tables/stream_checkpoint/\") \\\n",
    "    .start()\n"
   ]
  },
  {
   "cell_type": "code",
   "execution_count": 0,
   "metadata": {
    "application/vnd.databricks.v1+cell": {
     "cellMetadata": {
      "byteLimit": 2048000,
      "rowLimit": 10000
     },
     "inputWidgets": {},
     "nuid": "057afa4b-4cbe-4b0b-b1cd-59e3ed15e51b",
     "showTitle": false,
     "tableResultSettingsMap": {},
     "title": ""
    }
   },
   "outputs": [
    {
     "output_type": "display_data",
     "data": {
      "text/html": [
       "<style scoped>\n",
       "  .table-result-container {\n",
       "    max-height: 300px;\n",
       "    overflow: auto;\n",
       "  }\n",
       "  table, th, td {\n",
       "    border: 1px solid black;\n",
       "    border-collapse: collapse;\n",
       "  }\n",
       "  th, td {\n",
       "    padding: 5px;\n",
       "  }\n",
       "  th {\n",
       "    text-align: left;\n",
       "  }\n",
       "</style><div class='table-result-container'><table class='table-result'><thead style='background-color: white'><tr><th>File</th><th>Shop</th><th>Sale_count</th></tr></thead><tbody><tr><td>1011</td><td>2025-07-01 10:50:00</td><td>500</td></tr><tr><td>1012</td><td>2025-07-01 10:46:00</td><td>501</td></tr><tr><td>1013</td><td>2025-07-01 09:27:00</td><td>502</td></tr><tr><td>1014</td><td>2025-07-01 09:20:00</td><td>503</td></tr><tr><td>1015</td><td>2025-07-01 10:50:00</td><td>504</td></tr><tr><td>1021</td><td>2025-07-01 09:30:00</td><td>500</td></tr><tr><td>1022</td><td>2025-07-01 10:01:00</td><td>501</td></tr><tr><td>1023</td><td>2025-07-01 09:51:00</td><td>502</td></tr><tr><td>1024</td><td>2025-07-01 10:37:00</td><td>503</td></tr><tr><td>1025</td><td>2025-07-01 09:46:00</td><td>504</td></tr><tr><td>1001</td><td>2025-07-01 10:48:00</td><td>500</td></tr><tr><td>1002</td><td>2025-07-01 10:05:00</td><td>501</td></tr><tr><td>1003</td><td>2025-07-01 10:46:00</td><td>502</td></tr><tr><td>1004</td><td>2025-07-01 10:54:00</td><td>503</td></tr><tr><td>1005</td><td>2025-07-01 10:36:00</td><td>504</td></tr><tr><td>1006</td><td>2025-07-01 09:17:00</td><td>500</td></tr><tr><td>1007</td><td>2025-07-01 10:03:00</td><td>501</td></tr><tr><td>1008</td><td>2025-07-01 10:40:00</td><td>502</td></tr><tr><td>1009</td><td>2025-07-01 10:54:00</td><td>503</td></tr><tr><td>1010</td><td>2025-07-01 10:38:00</td><td>504</td></tr><tr><td>1016</td><td>2025-07-01 09:30:00</td><td>500</td></tr><tr><td>1017</td><td>2025-07-01 10:17:00</td><td>501</td></tr><tr><td>1018</td><td>2025-07-01 10:56:00</td><td>502</td></tr><tr><td>1019</td><td>2025-07-01 09:24:00</td><td>503</td></tr><tr><td>1020</td><td>2025-07-01 10:10:00</td><td>504</td></tr></tbody></table></div>"
      ]
     },
     "metadata": {
      "application/vnd.databricks.v1+output": {
       "addedWidgets": {},
       "aggData": [],
       "aggError": "",
       "aggOverflow": false,
       "aggSchema": [],
       "aggSeriesLimitReached": false,
       "aggType": "",
       "arguments": {},
       "columnCustomDisplayInfos": {},
       "data": [
        [
         "1011",
         "2025-07-01 10:50:00",
         500
        ],
        [
         "1012",
         "2025-07-01 10:46:00",
         501
        ],
        [
         "1013",
         "2025-07-01 09:27:00",
         502
        ],
        [
         "1014",
         "2025-07-01 09:20:00",
         503
        ],
        [
         "1015",
         "2025-07-01 10:50:00",
         504
        ],
        [
         "1021",
         "2025-07-01 09:30:00",
         500
        ],
        [
         "1022",
         "2025-07-01 10:01:00",
         501
        ],
        [
         "1023",
         "2025-07-01 09:51:00",
         502
        ],
        [
         "1024",
         "2025-07-01 10:37:00",
         503
        ],
        [
         "1025",
         "2025-07-01 09:46:00",
         504
        ],
        [
         "1001",
         "2025-07-01 10:48:00",
         500
        ],
        [
         "1002",
         "2025-07-01 10:05:00",
         501
        ],
        [
         "1003",
         "2025-07-01 10:46:00",
         502
        ],
        [
         "1004",
         "2025-07-01 10:54:00",
         503
        ],
        [
         "1005",
         "2025-07-01 10:36:00",
         504
        ],
        [
         "1006",
         "2025-07-01 09:17:00",
         500
        ],
        [
         "1007",
         "2025-07-01 10:03:00",
         501
        ],
        [
         "1008",
         "2025-07-01 10:40:00",
         502
        ],
        [
         "1009",
         "2025-07-01 10:54:00",
         503
        ],
        [
         "1010",
         "2025-07-01 10:38:00",
         504
        ],
        [
         "1016",
         "2025-07-01 09:30:00",
         500
        ],
        [
         "1017",
         "2025-07-01 10:17:00",
         501
        ],
        [
         "1018",
         "2025-07-01 10:56:00",
         502
        ],
        [
         "1019",
         "2025-07-01 09:24:00",
         503
        ],
        [
         "1020",
         "2025-07-01 10:10:00",
         504
        ]
       ],
       "datasetInfos": [],
       "dbfsResultPath": null,
       "isJsonSchema": true,
       "metadata": {},
       "overflow": false,
       "plotOptions": {
        "customPlotOptions": {},
        "displayType": "table",
        "pivotAggregation": null,
        "pivotColumns": null,
        "xColumns": null,
        "yColumns": null
       },
       "removedWidgets": [],
       "schema": [
        {
         "metadata": "{}",
         "name": "File",
         "type": "\"string\""
        },
        {
         "metadata": "{}",
         "name": "Shop",
         "type": "\"string\""
        },
        {
         "metadata": "{}",
         "name": "Sale_count",
         "type": "\"integer\""
        }
       ],
       "type": "table"
      }
     },
     "output_type": "display_data"
    }
   ],
   "source": [
    "display(\n",
    "    spark.read.format(\"parquet\")\n",
    "    .load(\"/FileStore/tables/stream_write/\")\n",
    ")"
   ]
  },
  {
   "cell_type": "code",
   "execution_count": 0,
   "metadata": {
    "application/vnd.databricks.v1+cell": {
     "cellMetadata": {
      "byteLimit": 2048000,
      "rowLimit": 10000
     },
     "inputWidgets": {},
     "nuid": "406fa6b2-a5a8-4da5-bd76-0c85d8b1c599",
     "showTitle": false,
     "tableResultSettingsMap": {},
     "title": ""
    }
   },
   "outputs": [
    {
     "output_type": "stream",
     "name": "stdout",
     "output_type": "stream",
     "text": [
      "+----+-------------------+----------+\n|File|               Shop|Sale_count|\n+----+-------------------+----------+\n|1011|2025-07-01 10:50:00|       500|\n|1012|2025-07-01 10:46:00|       501|\n|1013|2025-07-01 09:27:00|       502|\n|1014|2025-07-01 09:20:00|       503|\n|1015|2025-07-01 10:50:00|       504|\n|1021|2025-07-01 09:30:00|       500|\n|1022|2025-07-01 10:01:00|       501|\n|1023|2025-07-01 09:51:00|       502|\n|1024|2025-07-01 10:37:00|       503|\n|1025|2025-07-01 09:46:00|       504|\n|1001|2025-07-01 10:48:00|       500|\n|1002|2025-07-01 10:05:00|       501|\n|1003|2025-07-01 10:46:00|       502|\n|1004|2025-07-01 10:54:00|       503|\n|1005|2025-07-01 10:36:00|       504|\n|1006|2025-07-01 09:17:00|       500|\n|1007|2025-07-01 10:03:00|       501|\n|1008|2025-07-01 10:40:00|       502|\n|1009|2025-07-01 10:54:00|       503|\n|1010|2025-07-01 10:38:00|       504|\n+----+-------------------+----------+\nonly showing top 20 rows\n\n"
     ]
    }
   ],
   "source": [
    "df_result = spark.read.parquet(\"/FileStore/tables/stream_write/\")\n",
    "df_result.show()"
   ]
  }
 ],
 "metadata": {
  "application/vnd.databricks.v1+notebook": {
   "computePreferences": null,
   "dashboards": [],
   "environmentMetadata": {
    "base_environment": "",
    "environment_version": "2"
   },
   "inputWidgetPreferences": null,
   "language": "python",
   "notebookMetadata": {
    "pythonIndentUnit": 4
   },
   "notebookName": "spark_structred_streaming 2025-07-03 11:34:18",
   "widgets": {}
  },
  "language_info": {
   "name": "python"
  }
 },
 "nbformat": 4,
 "nbformat_minor": 0
}