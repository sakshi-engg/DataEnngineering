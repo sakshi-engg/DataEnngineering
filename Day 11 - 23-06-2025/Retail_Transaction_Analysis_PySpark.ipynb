{
  "cells": [
    {
      "cell_type": "markdown",
      "id": "41cafbd0",
      "metadata": {
        "id": "41cafbd0"
      },
      "source": [
        "# 🛍️ Retail Transaction Analysis using PySpark\n",
        "\n",
        "\n"
      ]
    },
    {
      "cell_type": "code",
      "execution_count": 1,
      "id": "62ee62e4",
      "metadata": {
        "colab": {
          "base_uri": "https://localhost:8080/"
        },
        "id": "62ee62e4",
        "outputId": "870dcd5a-a349-4561-a8af-65d73028b2b8"
      },
      "outputs": [
        {
          "output_type": "stream",
          "name": "stdout",
          "text": [
            "+-------------+----------+---------+-----------+--------+-----+-------+-------------------+-------------+----+-----+---------+----+\n",
            "|TransactionID|CustomerID|ProductID|   Category|Quantity|Price|Revenue|    TransactionDate|PaymentMethod|Year|Month|DayOfWeek|Hour|\n",
            "+-------------+----------+---------+-----------+--------+-----+-------+-------------------+-------------+----+-----+---------+----+\n",
            "|      T000000|      1102|     P003|       Home|       2| 75.0|  150.0|2021-01-16 01:00:00|         Cash|2021|    1|      Sat|   1|\n",
            "|      T000001|      1435|     P004|     Sports|       2| 60.0|  120.0|2022-07-14 23:00:00|  Net Banking|2022|    7|      Thu|  23|\n",
            "|      T000002|      1860|     P004|     Sports|       3| 60.0|  180.0|2020-04-30 00:00:00|         Cash|2020|    4|      Thu|   0|\n",
            "|      T000003|      1270|     P004|     Sports|       1| 60.0|   60.0|2022-06-05 07:00:00|          UPI|2022|    6|      Sun|   7|\n",
            "|      T000004|      1106|     P001|Electronics|       2|100.0|  200.0|2023-10-20 01:00:00|         Cash|2023|   10|      Fri|   1|\n",
            "+-------------+----------+---------+-----------+--------+-----+-------+-------------------+-------------+----+-----+---------+----+\n",
            "only showing top 5 rows\n",
            "\n"
          ]
        }
      ],
      "source": [
        "from pyspark.sql import SparkSession\n",
        "from pyspark.sql.functions import *\n",
        "\n",
        "# Create Spark session\n",
        "spark = SparkSession.builder.appName(\"RetailTransactionAnalysis\").getOrCreate()\n",
        "\n",
        "# Load dataset\n",
        "file_path = \"synthetic_transactions.csv\"  # adjust path if needed\n",
        "df = spark.read.option(\"header\", True).option(\"inferSchema\", True).csv(file_path)\n",
        "\n",
        "# Add derived columns\n",
        "df = df.withColumn(\"Revenue\", col(\"Quantity\") * col(\"Price\")) \\\n",
        "       .withColumn(\"Year\", year(\"TransactionDate\")) \\\n",
        "       .withColumn(\"Month\", month(\"TransactionDate\")) \\\n",
        "       .withColumn(\"DayOfWeek\", date_format(\"TransactionDate\", \"E\")) \\\n",
        "       .withColumn(\"Hour\", hour(\"TransactionDate\"))\n",
        "\n",
        "df.cache()\n",
        "df.show(5)\n"
      ]
    },
    {
      "cell_type": "markdown",
      "id": "eda5adb9",
      "metadata": {
        "id": "eda5adb9"
      },
      "source": [
        "### 📌 Question 1: Print the schema and total number of records."
      ]
    },
    {
      "cell_type": "code",
      "execution_count": 2,
      "id": "70c8c990",
      "metadata": {
        "colab": {
          "base_uri": "https://localhost:8080/"
        },
        "id": "70c8c990",
        "outputId": "a5b55f29-ada6-40fc-8907-e82b467c37f1"
      },
      "outputs": [
        {
          "output_type": "stream",
          "name": "stdout",
          "text": [
            "root\n",
            " |-- TransactionID: string (nullable = true)\n",
            " |-- CustomerID: integer (nullable = true)\n",
            " |-- ProductID: string (nullable = true)\n",
            " |-- Category: string (nullable = true)\n",
            " |-- Quantity: integer (nullable = true)\n",
            " |-- Price: double (nullable = true)\n",
            " |-- Revenue: double (nullable = true)\n",
            " |-- TransactionDate: timestamp (nullable = true)\n",
            " |-- PaymentMethod: string (nullable = true)\n",
            " |-- Year: integer (nullable = true)\n",
            " |-- Month: integer (nullable = true)\n",
            " |-- DayOfWeek: string (nullable = true)\n",
            " |-- Hour: integer (nullable = true)\n",
            "\n"
          ]
        },
        {
          "output_type": "execute_result",
          "data": {
            "text/plain": [
              "10000"
            ]
          },
          "metadata": {},
          "execution_count": 2
        }
      ],
      "source": [
        "df.printSchema()\n",
        "df.count()"
      ]
    },
    {
      "cell_type": "markdown",
      "id": "12aa3047",
      "metadata": {
        "id": "12aa3047"
      },
      "source": [
        "### 📌 Question 2: Display 10 sample transactions."
      ]
    },
    {
      "cell_type": "code",
      "execution_count": 3,
      "id": "d1a8f950",
      "metadata": {
        "colab": {
          "base_uri": "https://localhost:8080/"
        },
        "id": "d1a8f950",
        "outputId": "48ba867c-69eb-4fb2-a8bd-c4f920e20b32"
      },
      "outputs": [
        {
          "output_type": "stream",
          "name": "stdout",
          "text": [
            "+-------------+----------+---------+-----------+--------+-----+-------+-------------------+-------------+----+-----+---------+----+\n",
            "|TransactionID|CustomerID|ProductID|Category   |Quantity|Price|Revenue|TransactionDate    |PaymentMethod|Year|Month|DayOfWeek|Hour|\n",
            "+-------------+----------+---------+-----------+--------+-----+-------+-------------------+-------------+----+-----+---------+----+\n",
            "|T000000      |1102      |P003     |Home       |2       |75.0 |150.0  |2021-01-16 01:00:00|Cash         |2021|1    |Sat      |1   |\n",
            "|T000001      |1435      |P004     |Sports     |2       |60.0 |120.0  |2022-07-14 23:00:00|Net Banking  |2022|7    |Thu      |23  |\n",
            "|T000002      |1860      |P004     |Sports     |3       |60.0 |180.0  |2020-04-30 00:00:00|Cash         |2020|4    |Thu      |0   |\n",
            "|T000003      |1270      |P004     |Sports     |1       |60.0 |60.0   |2022-06-05 07:00:00|UPI          |2022|6    |Sun      |7   |\n",
            "|T000004      |1106      |P001     |Electronics|2       |100.0|200.0  |2023-10-20 01:00:00|Cash         |2023|10   |Fri      |1   |\n",
            "|T000005      |1071      |P005     |Books      |3       |30.0 |90.0   |2021-07-08 08:00:00|UPI          |2021|7    |Thu      |8   |\n",
            "|T000006      |1700      |P003     |Home       |2       |75.0 |150.0  |2023-12-16 15:00:00|Cash         |2023|12   |Sat      |15  |\n",
            "|T000007      |1020      |P004     |Sports     |3       |60.0 |180.0  |2023-06-13 09:00:00|Credit Card  |2023|6    |Tue      |9   |\n",
            "|T000008      |1614      |P005     |Books      |4       |30.0 |120.0  |2022-05-05 16:00:00|Debit Card   |2022|5    |Thu      |16  |\n",
            "|T000009      |1121      |P004     |Sports     |1       |60.0 |60.0   |2023-07-08 15:00:00|UPI          |2023|7    |Sat      |15  |\n",
            "+-------------+----------+---------+-----------+--------+-----+-------+-------------------+-------------+----+-----+---------+----+\n",
            "only showing top 10 rows\n",
            "\n"
          ]
        }
      ],
      "source": [
        "df.show(10, truncate=False)"
      ]
    },
    {
      "cell_type": "markdown",
      "id": "f0ab0e21",
      "metadata": {
        "id": "f0ab0e21"
      },
      "source": [
        "### 📌 Question 3: What is the range of transaction dates?"
      ]
    },
    {
      "cell_type": "code",
      "execution_count": 4,
      "id": "8817a8fd",
      "metadata": {
        "colab": {
          "base_uri": "https://localhost:8080/"
        },
        "id": "8817a8fd",
        "outputId": "ce3bdf74-5ed1-4387-bcab-80abac4e6450"
      },
      "outputs": [
        {
          "output_type": "stream",
          "name": "stdout",
          "text": [
            "+--------------------+--------------------+\n",
            "|min(TransactionDate)|max(TransactionDate)|\n",
            "+--------------------+--------------------+\n",
            "| 2020-01-01 02:00:00| 2023-12-30 20:00:00|\n",
            "+--------------------+--------------------+\n",
            "\n"
          ]
        }
      ],
      "source": [
        "df.select(min(\"TransactionDate\"), max(\"TransactionDate\")).show()"
      ]
    },
    {
      "cell_type": "markdown",
      "id": "07793a0c",
      "metadata": {
        "id": "07793a0c"
      },
      "source": [
        "### 📌 Question 4: Count the number of unique customers."
      ]
    },
    {
      "cell_type": "code",
      "execution_count": 5,
      "id": "0f66d0ee",
      "metadata": {
        "colab": {
          "base_uri": "https://localhost:8080/"
        },
        "id": "0f66d0ee",
        "outputId": "3e954b4a-cfa5-41f5-b4ce-5e7b9662f0b2"
      },
      "outputs": [
        {
          "output_type": "execute_result",
          "data": {
            "text/plain": [
              "1000"
            ]
          },
          "metadata": {},
          "execution_count": 5
        }
      ],
      "source": [
        "df.select(\"CustomerID\").distinct().count()"
      ]
    },
    {
      "cell_type": "markdown",
      "id": "31c1735b",
      "metadata": {
        "id": "31c1735b"
      },
      "source": [
        "### 📌 Question 5: List distinct products in the dataset."
      ]
    },
    {
      "cell_type": "code",
      "execution_count": 13,
      "id": "8788dc57",
      "metadata": {
        "colab": {
          "base_uri": "https://localhost:8080/"
        },
        "id": "8788dc57",
        "outputId": "f814fffd-92e5-4938-a5bb-2286bdcb0142"
      },
      "outputs": [
        {
          "output_type": "stream",
          "name": "stdout",
          "text": [
            "+-----------+\n",
            "|Category   |\n",
            "+-----------+\n",
            "|Home       |\n",
            "|Sports     |\n",
            "|Electronics|\n",
            "|Clothing   |\n",
            "|Books      |\n",
            "+-----------+\n",
            "\n",
            "+---------+\n",
            "|ProductID|\n",
            "+---------+\n",
            "|P003     |\n",
            "|P004     |\n",
            "|P002     |\n",
            "|P001     |\n",
            "|P005     |\n",
            "+---------+\n",
            "\n"
          ]
        }
      ],
      "source": [
        "df.select(\"Category\").distinct().show(truncate=False)\n",
        "df.select(\"ProductID\").distinct().show(truncate=False)"
      ]
    },
    {
      "cell_type": "markdown",
      "id": "674f3184",
      "metadata": {
        "id": "674f3184"
      },
      "source": [
        "### 📌 Question 6: What is the total revenue for each product?"
      ]
    },
    {
      "cell_type": "code",
      "execution_count": 14,
      "id": "d340f705",
      "metadata": {
        "colab": {
          "base_uri": "https://localhost:8080/"
        },
        "id": "d340f705",
        "outputId": "ebc14354-9444-4143-ed9b-fa42cb118145"
      },
      "outputs": [
        {
          "output_type": "stream",
          "name": "stdout",
          "text": [
            "+-----------+------------+\n",
            "|   Category|TotalRevenue|\n",
            "+-----------+------------+\n",
            "|Electronics|    510000.0|\n",
            "|       Home|    359100.0|\n",
            "|     Sports|    309900.0|\n",
            "|   Clothing|    242050.0|\n",
            "|      Books|    152670.0|\n",
            "+-----------+------------+\n",
            "\n"
          ]
        }
      ],
      "source": [
        "df.groupBy(\"Category\").agg(round(sum(\"Revenue\"), 2).alias(\"TotalRevenue\")).orderBy(desc(\"TotalRevenue\")).show()"
      ]
    },
    {
      "cell_type": "markdown",
      "id": "7835045c",
      "metadata": {
        "id": "7835045c"
      },
      "source": [
        "### 📌 Question 7: Which product generated the highest revenue?"
      ]
    },
    {
      "cell_type": "code",
      "execution_count": 15,
      "id": "e07bb995",
      "metadata": {
        "colab": {
          "base_uri": "https://localhost:8080/"
        },
        "id": "e07bb995",
        "outputId": "14d8cbe4-0297-41da-b3a6-5979049d6e31"
      },
      "outputs": [
        {
          "output_type": "stream",
          "name": "stdout",
          "text": [
            "+-----------+------------+\n",
            "|   Category|TotalRevenue|\n",
            "+-----------+------------+\n",
            "|Electronics|    510000.0|\n",
            "+-----------+------------+\n",
            "\n"
          ]
        }
      ],
      "source": [
        "df.groupBy(\"Category\").agg(sum(\"Revenue\").alias(\"TotalRevenue\")).orderBy(desc(\"TotalRevenue\")).limit(1).show()"
      ]
    },
    {
      "cell_type": "markdown",
      "id": "ce15a8a9",
      "metadata": {
        "id": "ce15a8a9"
      },
      "source": [
        "# 📌 Question 8: What is the average quantity sold for each product?"
      ]
    },
    {
      "cell_type": "code",
      "execution_count": 19,
      "id": "0893482b",
      "metadata": {
        "colab": {
          "base_uri": "https://localhost:8080/"
        },
        "id": "0893482b",
        "outputId": "196f69d5-c209-4f90-f8aa-7e651709405d"
      },
      "outputs": [
        {
          "output_type": "stream",
          "name": "stdout",
          "text": [
            "+-----------+-----------+\n",
            "|   Category|AvgQuantity|\n",
            "+-----------+-----------+\n",
            "|Electronics|        3.0|\n",
            "|       Home|        2.0|\n",
            "|     Sports|        2.0|\n",
            "|   Clothing|        2.0|\n",
            "|      Books|        2.0|\n",
            "+-----------+-----------+\n",
            "\n"
          ]
        }
      ],
      "source": [
        "df.groupBy(\"Category\")\\\n",
        ".agg(round(avg(\"Quantity\")).alias(\"AvgQuantity\"))\\\n",
        "  .orderBy(desc(\"AvgQuantity\"))\\\n",
        "  .show()"
      ]
    },
    {
      "cell_type": "markdown",
      "id": "a3a37bcc",
      "metadata": {
        "id": "a3a37bcc"
      },
      "source": [
        "### 📌 Question 9: Count how many transactions were made for each category."
      ]
    },
    {
      "cell_type": "code",
      "execution_count": 20,
      "id": "e602ef1d",
      "metadata": {
        "colab": {
          "base_uri": "https://localhost:8080/"
        },
        "id": "e602ef1d",
        "outputId": "a37c2f27-312a-4c6a-8f2a-e885fc78d321"
      },
      "outputs": [
        {
          "output_type": "stream",
          "name": "stdout",
          "text": [
            "+-----------+-----+\n",
            "|   Category|count|\n",
            "+-----------+-----+\n",
            "|     Sports| 2069|\n",
            "|      Books| 2058|\n",
            "|Electronics| 1999|\n",
            "|   Clothing| 1954|\n",
            "|       Home| 1920|\n",
            "+-----------+-----+\n",
            "\n"
          ]
        }
      ],
      "source": [
        "df.groupBy(\"Category\").count().orderBy(desc(\"count\")).show()"
      ]
    },
    {
      "cell_type": "markdown",
      "id": "84bc62a9",
      "metadata": {
        "id": "84bc62a9"
      },
      "source": [
        "### 📌 Question 10: Find the top 3 products by revenue in each category.\n"
      ]
    },
    {
      "cell_type": "code",
      "execution_count": 27,
      "id": "14d1c6fb",
      "metadata": {
        "colab": {
          "base_uri": "https://localhost:8080/"
        },
        "id": "14d1c6fb",
        "outputId": "326d3a9d-eeae-45a4-887e-45cd6a57139a"
      },
      "outputs": [
        {
          "output_type": "stream",
          "name": "stdout",
          "text": [
            "+-----------+---------+------------+----+\n",
            "|Category   |ProductID|TotalRevenue|Rank|\n",
            "+-----------+---------+------------+----+\n",
            "|Books      |P005     |152670.0    |1   |\n",
            "|Clothing   |P002     |242050.0    |1   |\n",
            "|Electronics|P001     |510000.0    |1   |\n",
            "+-----------+---------+------------+----+\n",
            "only showing top 3 rows\n",
            "\n"
          ]
        }
      ],
      "source": [
        "product_revenue = df.groupBy(\"Category\", \"ProductID\")\\\n",
        "                    .agg(sum(\"Revenue\").alias(\"TotalRevenue\"))\n",
        "w = Window.partitionBy(\"Category\").orderBy(desc(\"TotalRevenue\"))\n",
        "\n",
        "# Add rank and filter top 3 products per category\n",
        "top_products = product_revenue.withColumn(\"Rank\", dense_rank().over(w))\\\n",
        "                              .filter(col(\"Rank\") <= 3)\n",
        "top_products.orderBy(\"Category\", \"Rank\").show(3, truncate=False)"
      ]
    },
    {
      "cell_type": "markdown",
      "source": [
        "###📌 Q11: What is the average order value (AOV)?"
      ],
      "metadata": {
        "id": "udqo5wDKJVCp"
      },
      "id": "udqo5wDKJVCp"
    },
    {
      "cell_type": "code",
      "source": [
        "df.select(round(avg(\"Revenue\"), 2).alias(\"AOV\")).show()"
      ],
      "metadata": {
        "colab": {
          "base_uri": "https://localhost:8080/"
        },
        "id": "GgtDX1CWH7Fl",
        "outputId": "259af14f-30c9-4583-9052-35c29daa0e5f"
      },
      "id": "GgtDX1CWH7Fl",
      "execution_count": 28,
      "outputs": [
        {
          "output_type": "stream",
          "name": "stdout",
          "text": [
            "+------+\n",
            "|   AOV|\n",
            "+------+\n",
            "|157.37|\n",
            "+------+\n",
            "\n"
          ]
        }
      ]
    },
    {
      "cell_type": "markdown",
      "source": [
        "###📌 Q12: Calculate total quantity sold by category.\n"
      ],
      "metadata": {
        "id": "Nz3iIGL8JXaQ"
      },
      "id": "Nz3iIGL8JXaQ"
    },
    {
      "cell_type": "code",
      "source": [
        "df.groupBy(\"Category\").agg(sum(\"Quantity\").alias(\"TotalQuantity\")).show()"
      ],
      "metadata": {
        "colab": {
          "base_uri": "https://localhost:8080/"
        },
        "id": "I2KXztBVJjX9",
        "outputId": "5b1aa51b-74dc-4c52-8c77-1568b0c96dcd"
      },
      "id": "I2KXztBVJjX9",
      "execution_count": 29,
      "outputs": [
        {
          "output_type": "stream",
          "name": "stdout",
          "text": [
            "+-----------+-------------+\n",
            "|   Category|TotalQuantity|\n",
            "+-----------+-------------+\n",
            "|       Home|         4788|\n",
            "|     Sports|         5165|\n",
            "|Electronics|         5100|\n",
            "|   Clothing|         4841|\n",
            "|      Books|         5089|\n",
            "+-----------+-------------+\n",
            "\n"
          ]
        }
      ]
    },
    {
      "cell_type": "markdown",
      "source": [
        "###📌 Q13: Identify the month with the highest total revenue.\n"
      ],
      "metadata": {
        "id": "vg37Npt5JoDj"
      },
      "id": "vg37Npt5JoDj"
    },
    {
      "cell_type": "code",
      "source": [
        "df.groupBy(\"Month\").agg(sum(\"Revenue\").alias(\"TotalRevenue\")) \\\n",
        "  .orderBy(desc(\"TotalRevenue\")).limit(1).show()"
      ],
      "metadata": {
        "colab": {
          "base_uri": "https://localhost:8080/"
        },
        "id": "zClac6ZiJ7tj",
        "outputId": "4ced8a72-d1a9-46f7-f161-1a88acab5f9b"
      },
      "id": "zClac6ZiJ7tj",
      "execution_count": 30,
      "outputs": [
        {
          "output_type": "stream",
          "name": "stdout",
          "text": [
            "+-----+------------+\n",
            "|Month|TotalRevenue|\n",
            "+-----+------------+\n",
            "|    7|    139610.0|\n",
            "+-----+------------+\n",
            "\n"
          ]
        }
      ]
    },
    {
      "cell_type": "markdown",
      "source": [
        "###📌 Q14: Find the day of the week with the fewest transactions.\n",
        "\n"
      ],
      "metadata": {
        "id": "88-4p995KGZg"
      },
      "id": "88-4p995KGZg"
    },
    {
      "cell_type": "code",
      "source": [
        "df.groupBy(\"DayOfWeek\").count().orderBy(\"count\").limit(1).show()"
      ],
      "metadata": {
        "colab": {
          "base_uri": "https://localhost:8080/"
        },
        "id": "2nFsEJC4KJyj",
        "outputId": "debf1aef-1fe3-41ac-93fb-a311db820ce4"
      },
      "id": "2nFsEJC4KJyj",
      "execution_count": 31,
      "outputs": [
        {
          "output_type": "stream",
          "name": "stdout",
          "text": [
            "+---------+-----+\n",
            "|DayOfWeek|count|\n",
            "+---------+-----+\n",
            "|      Wed| 1387|\n",
            "+---------+-----+\n",
            "\n"
          ]
        }
      ]
    },
    {
      "cell_type": "markdown",
      "source": [
        "###📌 Q15: Calculate revenue per quarter across all years"
      ],
      "metadata": {
        "id": "MMIHy2G4KRke"
      },
      "id": "MMIHy2G4KRke"
    },
    {
      "cell_type": "code",
      "source": [
        "df.withColumn(\"Quarter\", quarter(\"TransactionDate\")) \\\n",
        "  .groupBy(\"Year\", \"Quarter\") \\\n",
        "  .agg(sum(\"Revenue\").alias(\"TotalRevenue\")) \\\n",
        "  .orderBy(\"Year\", \"Quarter\").show()"
      ],
      "metadata": {
        "colab": {
          "base_uri": "https://localhost:8080/"
        },
        "id": "JsosMqD1KVD5",
        "outputId": "e0d5f2f0-b08f-4289-f8f1-3bf807ea91cb"
      },
      "id": "JsosMqD1KVD5",
      "execution_count": 32,
      "outputs": [
        {
          "output_type": "stream",
          "name": "stdout",
          "text": [
            "+----+-------+------------+\n",
            "|Year|Quarter|TotalRevenue|\n",
            "+----+-------+------------+\n",
            "|2020|      1|     97940.0|\n",
            "|2020|      2|     97535.0|\n",
            "|2020|      3|     98335.0|\n",
            "|2020|      4|    102935.0|\n",
            "|2021|      1|    100690.0|\n",
            "|2021|      2|     91485.0|\n",
            "|2021|      3|     94700.0|\n",
            "|2021|      4|    104015.0|\n",
            "|2022|      1|     94445.0|\n",
            "|2022|      2|    109140.0|\n",
            "|2022|      3|     99970.0|\n",
            "|2022|      4|     98220.0|\n",
            "|2023|      1|    100760.0|\n",
            "|2023|      2|     94640.0|\n",
            "|2023|      3|     91220.0|\n",
            "|2023|      4|     97690.0|\n",
            "+----+-------+------------+\n",
            "\n"
          ]
        }
      ]
    },
    {
      "cell_type": "markdown",
      "source": [
        "###📌 Q16: Which customer has the most transactions"
      ],
      "metadata": {
        "id": "9hEXtWhZKaPc"
      },
      "id": "9hEXtWhZKaPc"
    },
    {
      "cell_type": "code",
      "source": [
        "df.groupBy(\"CustomerID\").count().orderBy(desc(\"count\")).limit(1).show()"
      ],
      "metadata": {
        "colab": {
          "base_uri": "https://localhost:8080/"
        },
        "id": "m8Vn_wdtKdg9",
        "outputId": "392b1f6a-b7b8-4130-8be8-3f785f43fc92"
      },
      "id": "m8Vn_wdtKdg9",
      "execution_count": 33,
      "outputs": [
        {
          "output_type": "stream",
          "name": "stdout",
          "text": [
            "+----------+-----+\n",
            "|CustomerID|count|\n",
            "+----------+-----+\n",
            "|      1725|   22|\n",
            "+----------+-----+\n",
            "\n"
          ]
        }
      ]
    },
    {
      "cell_type": "markdown",
      "source": [
        "###📌 Q17: Which customer has spent the most"
      ],
      "metadata": {
        "id": "AFxlfV9_KjBg"
      },
      "id": "AFxlfV9_KjBg"
    },
    {
      "cell_type": "code",
      "source": [
        "df.groupBy(\"CustomerID\").agg(sum(\"Revenue\").alias(\"TotalSpend\")) \\\n",
        "  .orderBy(desc(\"TotalSpend\")).limit(1).show()"
      ],
      "metadata": {
        "colab": {
          "base_uri": "https://localhost:8080/"
        },
        "id": "UmMcQqklKmfV",
        "outputId": "acac15ec-4374-4105-e8dd-db6047d279de"
      },
      "id": "UmMcQqklKmfV",
      "execution_count": 34,
      "outputs": [
        {
          "output_type": "stream",
          "name": "stdout",
          "text": [
            "+----------+----------+\n",
            "|CustomerID|TotalSpend|\n",
            "+----------+----------+\n",
            "|      1282|    3840.0|\n",
            "+----------+----------+\n",
            "\n"
          ]
        }
      ]
    },
    {
      "cell_type": "markdown",
      "source": [
        "###📌 Q18: Top 5 customers by total revenue per year"
      ],
      "metadata": {
        "id": "gA_aF_QsKpbV"
      },
      "id": "gA_aF_QsKpbV"
    },
    {
      "cell_type": "code",
      "source": [
        "df.groupBy(\"Year\", \"CustomerID\").agg(sum(\"Revenue\").alias(\"TotalRevenue\")) \\\n",
        "  .orderBy(\"Year\", desc(\"TotalRevenue\")).show(5)"
      ],
      "metadata": {
        "colab": {
          "base_uri": "https://localhost:8080/"
        },
        "id": "jaj_KOaIKsa0",
        "outputId": "0d79d3d7-3d19-46bb-af36-b119104c1312"
      },
      "id": "jaj_KOaIKsa0",
      "execution_count": 36,
      "outputs": [
        {
          "output_type": "stream",
          "name": "stdout",
          "text": [
            "+----+----------+------------+\n",
            "|Year|CustomerID|TotalRevenue|\n",
            "+----+----------+------------+\n",
            "|2020|      1737|      1650.0|\n",
            "|2020|      1880|      1320.0|\n",
            "|2020|      1330|      1300.0|\n",
            "|2020|      1423|      1280.0|\n",
            "|2020|      1112|      1265.0|\n",
            "+----+----------+------------+\n",
            "only showing top 5 rows\n",
            "\n"
          ]
        }
      ]
    },
    {
      "cell_type": "markdown",
      "source": [
        "###📌 Q19: How many unique products has each customer purchased"
      ],
      "metadata": {
        "id": "O5_diZLZK51-"
      },
      "id": "O5_diZLZK51-"
    },
    {
      "cell_type": "code",
      "source": [
        "df.groupBy(\"CustomerID\").agg(countDistinct(\"ProductID\").alias(\"UniqueProducts\")).show()"
      ],
      "metadata": {
        "colab": {
          "base_uri": "https://localhost:8080/"
        },
        "id": "iLd0P3atLAic",
        "outputId": "c0a70bca-acaf-4aad-dc6b-80fbe45491e9"
      },
      "id": "iLd0P3atLAic",
      "execution_count": 39,
      "outputs": [
        {
          "output_type": "stream",
          "name": "stdout",
          "text": [
            "+----------+--------------+\n",
            "|CustomerID|UniqueProducts|\n",
            "+----------+--------------+\n",
            "|      1238|             5|\n",
            "|      1088|             4|\n",
            "|      1645|             4|\n",
            "|      1580|             4|\n",
            "|      1829|             5|\n",
            "|      1342|             5|\n",
            "|      1591|             4|\n",
            "|      1959|             5|\n",
            "|      1460|             4|\n",
            "|      1522|             5|\n",
            "|      1507|             5|\n",
            "|      1084|             4|\n",
            "|      1721|             4|\n",
            "|      1395|             4|\n",
            "|      1127|             5|\n",
            "|      1025|             5|\n",
            "|      1990|             4|\n",
            "|      1896|             5|\n",
            "|      1483|             3|\n",
            "|      1699|             5|\n",
            "+----------+--------------+\n",
            "only showing top 20 rows\n",
            "\n"
          ]
        }
      ]
    },
    {
      "cell_type": "markdown",
      "source": [
        "###📌 Q20: List customers who only used one type of payment method"
      ],
      "metadata": {
        "id": "P_Ch0PqdLSkv"
      },
      "id": "P_Ch0PqdLSkv"
    },
    {
      "cell_type": "code",
      "source": [
        "df.groupBy(\"CustomerID\").agg(countDistinct(\"PaymentMethod\").alias(\"PaymentTypes\")) \\\n",
        "  .filter(col(\"PaymentTypes\") == 1).show()"
      ],
      "metadata": {
        "colab": {
          "base_uri": "https://localhost:8080/"
        },
        "id": "_aknarFcLV_7",
        "outputId": "7ffde703-6964-4d26-aa97-00a5143e7718"
      },
      "id": "_aknarFcLV_7",
      "execution_count": 40,
      "outputs": [
        {
          "output_type": "stream",
          "name": "stdout",
          "text": [
            "+----------+------------+\n",
            "|CustomerID|PaymentTypes|\n",
            "+----------+------------+\n",
            "|      1544|           1|\n",
            "+----------+------------+\n",
            "\n"
          ]
        }
      ]
    },
    {
      "cell_type": "markdown",
      "source": [],
      "metadata": {
        "id": "928ajrS2LELs"
      },
      "id": "928ajrS2LELs"
    },
    {
      "cell_type": "markdown",
      "source": [
        "###📌 Q21: Count transactions per payment method"
      ],
      "metadata": {
        "id": "JyjB51CiLbby"
      },
      "id": "JyjB51CiLbby"
    },
    {
      "cell_type": "code",
      "source": [
        "df.groupBy(\"PaymentMethod\").count().orderBy(desc(\"count\")).show()"
      ],
      "metadata": {
        "colab": {
          "base_uri": "https://localhost:8080/"
        },
        "id": "RLqj7a8MLe89",
        "outputId": "e2d551e1-7084-4f62-c51d-24d21bebc105"
      },
      "id": "RLqj7a8MLe89",
      "execution_count": 41,
      "outputs": [
        {
          "output_type": "stream",
          "name": "stdout",
          "text": [
            "+-------------+-----+\n",
            "|PaymentMethod|count|\n",
            "+-------------+-----+\n",
            "|          UPI| 2095|\n",
            "|   Debit Card| 2081|\n",
            "|  Credit Card| 1964|\n",
            "|  Net Banking| 1937|\n",
            "|         Cash| 1923|\n",
            "+-------------+-----+\n",
            "\n"
          ]
        }
      ]
    },
    {
      "cell_type": "markdown",
      "source": [
        "###📌 Q22: Most used payment method per product category"
      ],
      "metadata": {
        "id": "78nNl0TYLr7i"
      },
      "id": "78nNl0TYLr7i"
    },
    {
      "cell_type": "code",
      "source": [
        "from pyspark.sql.window import Window\n",
        "from pyspark.sql.functions import rank\n",
        "\n",
        "df.groupBy(\"Category\", \"PaymentMethod\").count() \\\n",
        "  .withColumn(\"rank\", rank().over(Window.partitionBy(\"Category\").orderBy(desc(\"count\")))) \\\n",
        "  .filter(col(\"rank\") == 1).show()\n"
      ],
      "metadata": {
        "colab": {
          "base_uri": "https://localhost:8080/"
        },
        "id": "zwfcJ6CBLwkP",
        "outputId": "f9123497-cfb6-4fea-f3c7-a6e1d5b841da"
      },
      "id": "zwfcJ6CBLwkP",
      "execution_count": 42,
      "outputs": [
        {
          "output_type": "stream",
          "name": "stdout",
          "text": [
            "+-----------+-------------+-----+----+\n",
            "|   Category|PaymentMethod|count|rank|\n",
            "+-----------+-------------+-----+----+\n",
            "|      Books|          UPI|  450|   1|\n",
            "|   Clothing|   Debit Card|  420|   1|\n",
            "|Electronics|          UPI|  424|   1|\n",
            "|       Home|   Debit Card|  397|   1|\n",
            "|     Sports|   Debit Card|  462|   1|\n",
            "+-----------+-------------+-----+----+\n",
            "\n"
          ]
        }
      ]
    },
    {
      "cell_type": "markdown",
      "source": [
        "###📌 Q23: Average transaction revenue per payment method"
      ],
      "metadata": {
        "id": "9-fU8MsaMP3L"
      },
      "id": "9-fU8MsaMP3L"
    },
    {
      "cell_type": "code",
      "source": [
        "df.groupBy(\"PaymentMethod\").agg(round(avg(\"Revenue\"), 2).alias(\"AvgRevenue\")).show()\n"
      ],
      "metadata": {
        "colab": {
          "base_uri": "https://localhost:8080/"
        },
        "id": "7MqulC2_MnpX",
        "outputId": "1acd1e0e-a4c5-4749-edcf-44d8a5561b8b"
      },
      "id": "7MqulC2_MnpX",
      "execution_count": 43,
      "outputs": [
        {
          "output_type": "stream",
          "name": "stdout",
          "text": [
            "+-------------+----------+\n",
            "|PaymentMethod|AvgRevenue|\n",
            "+-------------+----------+\n",
            "|  Credit Card|    157.96|\n",
            "|  Net Banking|    154.24|\n",
            "|         Cash|    158.83|\n",
            "|   Debit Card|    156.96|\n",
            "|          UPI|    158.79|\n",
            "+-------------+----------+\n",
            "\n"
          ]
        }
      ]
    },
    {
      "cell_type": "markdown",
      "source": [
        "###📌 Q24: Customers who used 3 or more different payment methods"
      ],
      "metadata": {
        "id": "gkY7DFNRMrU8"
      },
      "id": "gkY7DFNRMrU8"
    },
    {
      "cell_type": "code",
      "source": [
        "df.groupBy(\"CustomerID\").agg(countDistinct(\"PaymentMethod\").alias(\"Methods\")) \\\n",
        "  .filter(col(\"Methods\") >= 3).show()"
      ],
      "metadata": {
        "colab": {
          "base_uri": "https://localhost:8080/"
        },
        "id": "rtejmUUSMvFr",
        "outputId": "2064ecc9-8dec-456f-f4ea-3ffbe517b72c"
      },
      "id": "rtejmUUSMvFr",
      "execution_count": 44,
      "outputs": [
        {
          "output_type": "stream",
          "name": "stdout",
          "text": [
            "+----------+-------+\n",
            "|CustomerID|Methods|\n",
            "+----------+-------+\n",
            "|      1238|      4|\n",
            "|      1645|      5|\n",
            "|      1342|      4|\n",
            "|      1591|      4|\n",
            "|      1959|      4|\n",
            "|      1829|      5|\n",
            "|      1580|      5|\n",
            "|      1088|      5|\n",
            "|      1896|      4|\n",
            "|      1460|      4|\n",
            "|      1507|      5|\n",
            "|      1127|      5|\n",
            "|      1990|      5|\n",
            "|      1025|      3|\n",
            "|      1395|      4|\n",
            "|      1721|      4|\n",
            "|      1522|      4|\n",
            "|      1084|      5|\n",
            "|      1303|      4|\n",
            "|      1322|      5|\n",
            "+----------+-------+\n",
            "only showing top 20 rows\n",
            "\n"
          ]
        }
      ]
    },
    {
      "cell_type": "markdown",
      "source": [
        "###📌 Q25: Payment method with the highest average revenue"
      ],
      "metadata": {
        "id": "0Ck-YqPqM1P6"
      },
      "id": "0Ck-YqPqM1P6"
    },
    {
      "cell_type": "code",
      "source": [
        "df.groupBy(\"PaymentMethod\").agg(avg(\"Revenue\").alias(\"AvgRevenue\")) \\\n",
        "  .orderBy(desc(\"AvgRevenue\")).limit(1).show()"
      ],
      "metadata": {
        "colab": {
          "base_uri": "https://localhost:8080/"
        },
        "id": "hSSW2v2mM5-R",
        "outputId": "2006d83d-472e-4708-8bd0-323723638031"
      },
      "id": "hSSW2v2mM5-R",
      "execution_count": 45,
      "outputs": [
        {
          "output_type": "stream",
          "name": "stdout",
          "text": [
            "+-------------+------------------+\n",
            "|PaymentMethod|        AvgRevenue|\n",
            "+-------------+------------------+\n",
            "|         Cash|158.82735309412377|\n",
            "+-------------+------------------+\n",
            "\n"
          ]
        }
      ]
    },
    {
      "cell_type": "markdown",
      "source": [
        "###📌 Q26: Revenue by hour of day"
      ],
      "metadata": {
        "id": "aWHILx_tM-Yi"
      },
      "id": "aWHILx_tM-Yi"
    },
    {
      "cell_type": "code",
      "source": [
        "df.groupBy(\"Hour\").agg(sum(\"Revenue\").alias(\"TotalRevenue\")).orderBy(\"Hour\").show()"
      ],
      "metadata": {
        "colab": {
          "base_uri": "https://localhost:8080/"
        },
        "id": "-UyoDi41NClr",
        "outputId": "3c3431eb-ba71-4eca-8f5c-d7c481aa3850"
      },
      "id": "-UyoDi41NClr",
      "execution_count": 46,
      "outputs": [
        {
          "output_type": "stream",
          "name": "stdout",
          "text": [
            "+----+------------+\n",
            "|Hour|TotalRevenue|\n",
            "+----+------------+\n",
            "|   0|     65480.0|\n",
            "|   1|     65545.0|\n",
            "|   2|     65570.0|\n",
            "|   3|     63060.0|\n",
            "|   4|     68745.0|\n",
            "|   5|     65640.0|\n",
            "|   6|     66650.0|\n",
            "|   7|     70185.0|\n",
            "|   8|     59375.0|\n",
            "|   9|     63865.0|\n",
            "|  10|     64750.0|\n",
            "|  11|     68145.0|\n",
            "|  12|     61100.0|\n",
            "|  13|     61605.0|\n",
            "|  14|     62195.0|\n",
            "|  15|     64000.0|\n",
            "|  16|     68085.0|\n",
            "|  17|     66510.0|\n",
            "|  18|     66630.0|\n",
            "|  19|     63200.0|\n",
            "+----+------------+\n",
            "only showing top 20 rows\n",
            "\n"
          ]
        }
      ]
    },
    {
      "cell_type": "markdown",
      "source": [
        "###📌 Q27: Peak transaction hours"
      ],
      "metadata": {
        "id": "UibChTggNIDn"
      },
      "id": "UibChTggNIDn"
    },
    {
      "cell_type": "code",
      "source": [
        "df.groupBy(\"Hour\").count().orderBy(desc(\"count\")).show(5)"
      ],
      "metadata": {
        "colab": {
          "base_uri": "https://localhost:8080/"
        },
        "id": "YjUq8jJXNLe_",
        "outputId": "7d616baa-1b9c-4313-c53c-ef0eb96011a2"
      },
      "id": "YjUq8jJXNLe_",
      "execution_count": 47,
      "outputs": [
        {
          "output_type": "stream",
          "name": "stdout",
          "text": [
            "+----+-----+\n",
            "|Hour|count|\n",
            "+----+-----+\n",
            "|  23|  444|\n",
            "|  11|  443|\n",
            "|  16|  440|\n",
            "|  17|  434|\n",
            "|  22|  433|\n",
            "+----+-----+\n",
            "only showing top 5 rows\n",
            "\n"
          ]
        }
      ]
    },
    {
      "cell_type": "markdown",
      "source": [
        "###📌 Q28: Total number of transactions per month"
      ],
      "metadata": {
        "id": "TIJ0nOPzNOtS"
      },
      "id": "TIJ0nOPzNOtS"
    },
    {
      "cell_type": "code",
      "source": [
        "df.groupBy(\"Year\", \"Month\").count().orderBy(\"Year\", \"Month\").show()\n"
      ],
      "metadata": {
        "colab": {
          "base_uri": "https://localhost:8080/"
        },
        "id": "K9GM278uNgAZ",
        "outputId": "940d1ad4-00bb-4b0f-ed2e-6d62df0cf422"
      },
      "id": "K9GM278uNgAZ",
      "execution_count": 48,
      "outputs": [
        {
          "output_type": "stream",
          "name": "stdout",
          "text": [
            "+----+-----+-----+\n",
            "|Year|Month|count|\n",
            "+----+-----+-----+\n",
            "|2020|    1|  208|\n",
            "|2020|    2|  187|\n",
            "|2020|    3|  218|\n",
            "|2020|    4|  191|\n",
            "|2020|    5|  237|\n",
            "|2020|    6|  206|\n",
            "|2020|    7|  217|\n",
            "|2020|    8|  202|\n",
            "|2020|    9|  194|\n",
            "|2020|   10|  230|\n",
            "|2020|   11|  213|\n",
            "|2020|   12|  218|\n",
            "|2021|    1|  220|\n",
            "|2021|    2|  212|\n",
            "|2021|    3|  220|\n",
            "|2021|    4|  217|\n",
            "|2021|    5|  183|\n",
            "|2021|    6|  186|\n",
            "|2021|    7|  215|\n",
            "|2021|    8|  173|\n",
            "+----+-----+-----+\n",
            "only showing top 20 rows\n",
            "\n"
          ]
        }
      ]
    },
    {
      "cell_type": "markdown",
      "source": [
        "###📌 Q29: Most popular shopping days (across years)"
      ],
      "metadata": {
        "id": "C7kfg2JiNqcT"
      },
      "id": "C7kfg2JiNqcT"
    },
    {
      "cell_type": "code",
      "source": [
        "df.groupBy(\"DayOfWeek\").count().orderBy(desc(\"count\")).show()\n"
      ],
      "metadata": {
        "colab": {
          "base_uri": "https://localhost:8080/"
        },
        "id": "fXl66_HzNvQZ",
        "outputId": "4c12eab6-daf8-4879-9631-97b6b19b29d1"
      },
      "id": "fXl66_HzNvQZ",
      "execution_count": 49,
      "outputs": [
        {
          "output_type": "stream",
          "name": "stdout",
          "text": [
            "+---------+-----+\n",
            "|DayOfWeek|count|\n",
            "+---------+-----+\n",
            "|      Fri| 1479|\n",
            "|      Mon| 1451|\n",
            "|      Thu| 1444|\n",
            "|      Sat| 1436|\n",
            "|      Sun| 1408|\n",
            "|      Tue| 1395|\n",
            "|      Wed| 1387|\n",
            "+---------+-----+\n",
            "\n"
          ]
        }
      ]
    },
    {
      "cell_type": "markdown",
      "source": [
        "###📌 Q30: Weekday-month combo with most transactions > ₹200"
      ],
      "metadata": {
        "id": "Wbck3TR4N0s4"
      },
      "id": "Wbck3TR4N0s4"
    },
    {
      "cell_type": "code",
      "source": [
        "df.filter(col(\"Revenue\") > 200) \\\n",
        "  .groupBy(\"DayOfWeek\", \"Month\").count() \\\n",
        "  .orderBy(desc(\"count\")).show(1)\n"
      ],
      "metadata": {
        "colab": {
          "base_uri": "https://localhost:8080/"
        },
        "id": "ntQvlZHiOBkO",
        "outputId": "0a78d4a6-414c-4c82-b951-37b70fe13438"
      },
      "id": "ntQvlZHiOBkO",
      "execution_count": 50,
      "outputs": [
        {
          "output_type": "stream",
          "name": "stdout",
          "text": [
            "+---------+-----+-----+\n",
            "|DayOfWeek|Month|count|\n",
            "+---------+-----+-----+\n",
            "|      Thu|    7|   44|\n",
            "+---------+-----+-----+\n",
            "only showing top 1 row\n",
            "\n"
          ]
        }
      ]
    },
    {
      "cell_type": "markdown",
      "source": [
        "###📌 Q31: Average transaction amount per category per year"
      ],
      "metadata": {
        "id": "aBCxczbrOEiu"
      },
      "id": "aBCxczbrOEiu"
    },
    {
      "cell_type": "code",
      "source": [
        "df.groupBy(\"Year\", \"Category\") \\\n",
        "  .agg(round(avg(\"Revenue\"), 2).alias(\"AvgRevenue\")).orderBy(\"Year\").show()"
      ],
      "metadata": {
        "colab": {
          "base_uri": "https://localhost:8080/"
        },
        "id": "kxQmcdwjOIUs",
        "outputId": "8e1a57db-9652-493d-87d0-09f792cff547"
      },
      "id": "kxQmcdwjOIUs",
      "execution_count": 51,
      "outputs": [
        {
          "output_type": "stream",
          "name": "stdout",
          "text": [
            "+----+-----------+----------+\n",
            "|Year|   Category|AvgRevenue|\n",
            "+----+-----------+----------+\n",
            "|2020|     Sports|    149.11|\n",
            "|2020|Electronics|    254.71|\n",
            "|2020|   Clothing|    123.51|\n",
            "|2020|       Home|    181.24|\n",
            "|2020|      Books|     75.32|\n",
            "|2021|      Books|     73.18|\n",
            "|2021|       Home|    187.82|\n",
            "|2021|     Sports|    152.29|\n",
            "|2021|   Clothing|    123.39|\n",
            "|2021|Electronics|    257.87|\n",
            "|2022|   Clothing|    126.29|\n",
            "|2022|       Home|    190.33|\n",
            "|2022|     Sports|     148.6|\n",
            "|2022|      Books|     74.95|\n",
            "|2022|Electronics|    248.63|\n",
            "|2023|   Clothing|    122.17|\n",
            "|2023|       Home|    188.94|\n",
            "|2023|Electronics|    259.42|\n",
            "|2023|     Sports|    149.25|\n",
            "|2023|      Books|     73.34|\n",
            "+----+-----------+----------+\n",
            "\n"
          ]
        }
      ]
    },
    {
      "cell_type": "markdown",
      "source": [
        "###📌 Q32: Monthly revenue totals"
      ],
      "metadata": {
        "id": "MuzCuXPROMyu"
      },
      "id": "MuzCuXPROMyu"
    },
    {
      "cell_type": "code",
      "source": [
        "df.groupBy(\"Year\", \"Month\").agg(sum(\"Revenue\").alias(\"TotalRevenue\")) \\\n",
        "  .orderBy(\"Year\", \"Month\").show()"
      ],
      "metadata": {
        "colab": {
          "base_uri": "https://localhost:8080/"
        },
        "id": "53JEPWe3OPwB",
        "outputId": "cd48a293-690a-4056-96b9-9bb83266a9db"
      },
      "id": "53JEPWe3OPwB",
      "execution_count": 52,
      "outputs": [
        {
          "output_type": "stream",
          "name": "stdout",
          "text": [
            "+----+-----+------------+\n",
            "|Year|Month|TotalRevenue|\n",
            "+----+-----+------------+\n",
            "|2020|    1|     32625.0|\n",
            "|2020|    2|     28835.0|\n",
            "|2020|    3|     36480.0|\n",
            "|2020|    4|     29065.0|\n",
            "|2020|    5|     36055.0|\n",
            "|2020|    6|     32415.0|\n",
            "|2020|    7|     36665.0|\n",
            "|2020|    8|     29820.0|\n",
            "|2020|    9|     31850.0|\n",
            "|2020|   10|     35680.0|\n",
            "|2020|   11|     33710.0|\n",
            "|2020|   12|     33545.0|\n",
            "|2021|    1|     33505.0|\n",
            "|2021|    2|     32555.0|\n",
            "|2021|    3|     34630.0|\n",
            "|2021|    4|     35655.0|\n",
            "|2021|    5|     27660.0|\n",
            "|2021|    6|     28170.0|\n",
            "|2021|    7|     32665.0|\n",
            "|2021|    8|     28220.0|\n",
            "+----+-----+------------+\n",
            "only showing top 20 rows\n",
            "\n"
          ]
        }
      ]
    },
    {
      "cell_type": "markdown",
      "source": [
        "###📌 Q33: Repeat customers per year"
      ],
      "metadata": {
        "id": "zn2zHqv1OS8h"
      },
      "id": "zn2zHqv1OS8h"
    },
    {
      "cell_type": "code",
      "source": [
        "yearly_customers = df.select(\"CustomerID\", \"Year\").distinct()\n",
        "repeat_customers = yearly_customers.groupBy(\"CustomerID\").count().filter(\"count > 1\")\n",
        "repeat_customers.count()\n"
      ],
      "metadata": {
        "colab": {
          "base_uri": "https://localhost:8080/"
        },
        "id": "JHaJU0w4OWKH",
        "outputId": "fd45e12b-bc62-4640-8a62-0bcae471c23b"
      },
      "id": "JHaJU0w4OWKH",
      "execution_count": 53,
      "outputs": [
        {
          "output_type": "execute_result",
          "data": {
            "text/plain": [
              "994"
            ]
          },
          "metadata": {},
          "execution_count": 53
        }
      ]
    },
    {
      "cell_type": "markdown",
      "source": [
        "###📌 Q34: Customers with increasing yearly spending"
      ],
      "metadata": {
        "id": "aRA6UjYHOaZe"
      },
      "id": "aRA6UjYHOaZe"
    },
    {
      "cell_type": "code",
      "source": [
        "df.groupBy(\"CustomerID\", \"Year\") \\\n",
        "  .agg(sum(\"Revenue\").alias(\"YearlySpend\")) \\\n",
        "  .orderBy(\"CustomerID\", \"Year\").show()"
      ],
      "metadata": {
        "colab": {
          "base_uri": "https://localhost:8080/"
        },
        "id": "3SOAKklVOdY0",
        "outputId": "4f5ccb0c-1297-46d3-992e-6b6806dfd861"
      },
      "id": "3SOAKklVOdY0",
      "execution_count": 54,
      "outputs": [
        {
          "output_type": "stream",
          "name": "stdout",
          "text": [
            "+----------+----+-----------+\n",
            "|CustomerID|Year|YearlySpend|\n",
            "+----------+----+-----------+\n",
            "|      1000|2020|      465.0|\n",
            "|      1000|2021|      640.0|\n",
            "|      1000|2022|      500.0|\n",
            "|      1000|2023|      670.0|\n",
            "|      1001|2020|      700.0|\n",
            "|      1001|2021|      470.0|\n",
            "|      1001|2022|      225.0|\n",
            "|      1001|2023|      300.0|\n",
            "|      1002|2020|       90.0|\n",
            "|      1002|2021|      600.0|\n",
            "|      1002|2022|      820.0|\n",
            "|      1002|2023|      400.0|\n",
            "|      1003|2020|      600.0|\n",
            "|      1003|2021|      200.0|\n",
            "|      1003|2022|      500.0|\n",
            "|      1004|2020|      775.0|\n",
            "|      1004|2021|      400.0|\n",
            "|      1004|2022|      525.0|\n",
            "|      1004|2023|      255.0|\n",
            "|      1005|2020|      440.0|\n",
            "+----------+----+-----------+\n",
            "only showing top 20 rows\n",
            "\n"
          ]
        }
      ]
    },
    {
      "cell_type": "markdown",
      "source": [
        "###📌 Q35: Highest revenue category per year"
      ],
      "metadata": {
        "id": "HhuXHrVWOkWS"
      },
      "id": "HhuXHrVWOkWS"
    },
    {
      "cell_type": "code",
      "source": [
        "window = Window.partitionBy(\"Year\").orderBy(desc(\"TotalRevenue\"))\n",
        "df.groupBy(\"Year\", \"Category\") \\\n",
        "  .agg(sum(\"Revenue\").alias(\"TotalRevenue\")) \\\n",
        "  .withColumn(\"rank\", rank().over(window)) \\\n",
        "  .filter(col(\"rank\") == 1).show()"
      ],
      "metadata": {
        "colab": {
          "base_uri": "https://localhost:8080/"
        },
        "id": "uqlAMePiO56r",
        "outputId": "b8ceb4b8-24f3-4828-8cf6-6188e4788e77"
      },
      "id": "uqlAMePiO56r",
      "execution_count": 55,
      "outputs": [
        {
          "output_type": "stream",
          "name": "stdout",
          "text": [
            "+----+-----------+------------+----+\n",
            "|Year|   Category|TotalRevenue|rank|\n",
            "+----+-----------+------------+----+\n",
            "|2020|Electronics|    127100.0|   1|\n",
            "|2021|Electronics|    121200.0|   1|\n",
            "|2022|Electronics|    126800.0|   1|\n",
            "|2023|Electronics|    134900.0|   1|\n",
            "+----+-----------+------------+----+\n",
            "\n"
          ]
        }
      ]
    },
    {
      "cell_type": "markdown",
      "source": [
        "###📌 Q36: Add column for unit price"
      ],
      "metadata": {
        "id": "waG4DaX3O9O_"
      },
      "id": "waG4DaX3O9O_"
    },
    {
      "cell_type": "code",
      "source": [
        "df = df.withColumn(\"UnitPrice\", round(col(\"Revenue\") / col(\"Quantity\"), 2))\n",
        "df.select(\"ProductID\", \"Quantity\", \"Price\", \"Revenue\", \"UnitPrice\").show(5)\n"
      ],
      "metadata": {
        "colab": {
          "base_uri": "https://localhost:8080/"
        },
        "id": "RdzSiqAKPCfi",
        "outputId": "675f94dd-9029-4e2e-ba82-71912f188d00"
      },
      "id": "RdzSiqAKPCfi",
      "execution_count": 57,
      "outputs": [
        {
          "output_type": "stream",
          "name": "stdout",
          "text": [
            "+---------+--------+-----+-------+---------+\n",
            "|ProductID|Quantity|Price|Revenue|UnitPrice|\n",
            "+---------+--------+-----+-------+---------+\n",
            "|     P003|       2| 75.0|  150.0|     75.0|\n",
            "|     P004|       2| 60.0|  120.0|     60.0|\n",
            "|     P004|       3| 60.0|  180.0|     60.0|\n",
            "|     P004|       1| 60.0|   60.0|     60.0|\n",
            "|     P001|       2|100.0|  200.0|    100.0|\n",
            "+---------+--------+-----+-------+---------+\n",
            "only showing top 5 rows\n",
            "\n"
          ]
        }
      ]
    },
    {
      "cell_type": "markdown",
      "source": [
        "###📌 Q37: Extract year, month, and weekday"
      ],
      "metadata": {
        "id": "wWkO0FJnPLOr"
      },
      "id": "wWkO0FJnPLOr"
    },
    {
      "cell_type": "code",
      "source": [
        "df.select(\"TransactionDate\", \"Year\", \"Month\", \"DayOfWeek\").show(5)\n"
      ],
      "metadata": {
        "colab": {
          "base_uri": "https://localhost:8080/"
        },
        "id": "EdK6J5F8POy7",
        "outputId": "9ac60c11-65b1-48f2-9ab8-a7042a69ee53"
      },
      "id": "EdK6J5F8POy7",
      "execution_count": 58,
      "outputs": [
        {
          "output_type": "stream",
          "name": "stdout",
          "text": [
            "+-------------------+----+-----+---------+\n",
            "|    TransactionDate|Year|Month|DayOfWeek|\n",
            "+-------------------+----+-----+---------+\n",
            "|2021-01-16 01:00:00|2021|    1|      Sat|\n",
            "|2022-07-14 23:00:00|2022|    7|      Thu|\n",
            "|2020-04-30 00:00:00|2020|    4|      Thu|\n",
            "|2022-06-05 07:00:00|2022|    6|      Sun|\n",
            "|2023-10-20 01:00:00|2023|   10|      Fri|\n",
            "+-------------------+----+-----+---------+\n",
            "only showing top 5 rows\n",
            "\n"
          ]
        }
      ]
    },
    {
      "cell_type": "markdown",
      "source": [
        "###📌 Q38: Flag high-value transactions (Revenue > 300)"
      ],
      "metadata": {
        "id": "eQwJBR6iPW85"
      },
      "id": "eQwJBR6iPW85"
    },
    {
      "cell_type": "code",
      "source": [
        "df.withColumn(\"HighValue\", col(\"Revenue\") > 300) \\\n",
        "  .select(\"CustomerID\", \"Revenue\", \"HighValue\").show(5)"
      ],
      "metadata": {
        "colab": {
          "base_uri": "https://localhost:8080/"
        },
        "id": "ICKenLL9Pbly",
        "outputId": "936347bd-03eb-4574-a8bd-9dd3df479702"
      },
      "id": "ICKenLL9Pbly",
      "execution_count": 59,
      "outputs": [
        {
          "output_type": "stream",
          "name": "stdout",
          "text": [
            "+----------+-------+---------+\n",
            "|CustomerID|Revenue|HighValue|\n",
            "+----------+-------+---------+\n",
            "|      1102|  150.0|    false|\n",
            "|      1435|  120.0|    false|\n",
            "|      1860|  180.0|    false|\n",
            "|      1270|   60.0|    false|\n",
            "|      1106|  200.0|    false|\n",
            "+----------+-------+---------+\n",
            "only showing top 5 rows\n",
            "\n"
          ]
        }
      ]
    },
    {
      "cell_type": "markdown",
      "source": [
        "###📌 Q39: Categorize revenue into buckets"
      ],
      "metadata": {
        "id": "hZ9SnTDVPmBO"
      },
      "id": "hZ9SnTDVPmBO"
    },
    {
      "cell_type": "code",
      "source": [
        "df = df.withColumn(\"RevenueBucket\",\n",
        "    when(col(\"Revenue\") < 100, \"Low\")\n",
        "   .when(col(\"Revenue\") <= 200, \"Mid\")\n",
        "   .when(col(\"Revenue\") <= 300, \"High\")\n",
        "   .otherwise(\"Premium\"))\n",
        "df.select(\"Revenue\", \"RevenueBucket\").show(5)\n"
      ],
      "metadata": {
        "colab": {
          "base_uri": "https://localhost:8080/"
        },
        "id": "_Df_pLmxPp9d",
        "outputId": "2bd7ab0d-5e62-45bb-bfce-ab70406aa861"
      },
      "id": "_Df_pLmxPp9d",
      "execution_count": 60,
      "outputs": [
        {
          "output_type": "stream",
          "name": "stdout",
          "text": [
            "+-------+-------------+\n",
            "|Revenue|RevenueBucket|\n",
            "+-------+-------------+\n",
            "|  150.0|          Mid|\n",
            "|  120.0|          Mid|\n",
            "|  180.0|          Mid|\n",
            "|   60.0|          Low|\n",
            "|  200.0|          Mid|\n",
            "+-------+-------------+\n",
            "only showing top 5 rows\n",
            "\n"
          ]
        }
      ]
    },
    {
      "cell_type": "markdown",
      "source": [
        "###📌 Q40: Add column to calculate transaction hour."
      ],
      "metadata": {
        "id": "0p4ulYrOPu5u"
      },
      "id": "0p4ulYrOPu5u"
    },
    {
      "cell_type": "code",
      "source": [
        "df.select(\"TransactionDate\", \"Hour\").show(5)\n"
      ],
      "metadata": {
        "colab": {
          "base_uri": "https://localhost:8080/"
        },
        "id": "Y3KiXxqrPyM8",
        "outputId": "fe1950e3-eca0-4049-fabe-4981e5216aea"
      },
      "id": "Y3KiXxqrPyM8",
      "execution_count": 61,
      "outputs": [
        {
          "output_type": "stream",
          "name": "stdout",
          "text": [
            "+-------------------+----+\n",
            "|    TransactionDate|Hour|\n",
            "+-------------------+----+\n",
            "|2021-01-16 01:00:00|   1|\n",
            "|2022-07-14 23:00:00|  23|\n",
            "|2020-04-30 00:00:00|   0|\n",
            "|2022-06-05 07:00:00|   7|\n",
            "|2023-10-20 01:00:00|   1|\n",
            "+-------------------+----+\n",
            "only showing top 5 rows\n",
            "\n"
          ]
        }
      ]
    },
    {
      "cell_type": "markdown",
      "source": [
        "###📌 Q41: Products purchased per category"
      ],
      "metadata": {
        "id": "Sa4p2YBVP1cn"
      },
      "id": "Sa4p2YBVP1cn"
    },
    {
      "cell_type": "code",
      "source": [
        "df.groupBy(\"Category\").agg(count(\"ProductID\").alias(\"ProductPurchaseCount\")).show()"
      ],
      "metadata": {
        "colab": {
          "base_uri": "https://localhost:8080/"
        },
        "id": "Cn2Tex33P4SL",
        "outputId": "290c5441-0fc7-47b3-89e9-46addbbfc096"
      },
      "id": "Cn2Tex33P4SL",
      "execution_count": 65,
      "outputs": [
        {
          "output_type": "stream",
          "name": "stdout",
          "text": [
            "+-----------+--------------------+\n",
            "|   Category|ProductPurchaseCount|\n",
            "+-----------+--------------------+\n",
            "|       Home|                1920|\n",
            "|     Sports|                2069|\n",
            "|Electronics|                1999|\n",
            "|   Clothing|                1954|\n",
            "|      Books|                2058|\n",
            "+-----------+--------------------+\n",
            "\n"
          ]
        }
      ]
    },
    {
      "cell_type": "markdown",
      "source": [
        "###📌 Q42: Total revenue per category per year"
      ],
      "metadata": {
        "id": "lIcQsjQmQHGj"
      },
      "id": "lIcQsjQmQHGj"
    },
    {
      "cell_type": "code",
      "source": [
        "df.groupBy(\"Year\", \"Category\").agg(sum(\"Revenue\").alias(\"TotalRevenue\")).show()\n"
      ],
      "metadata": {
        "colab": {
          "base_uri": "https://localhost:8080/"
        },
        "id": "LbVr-LDpQKWI",
        "outputId": "bd45dab3-54e5-416c-bc42-b8efe7e6686b"
      },
      "id": "LbVr-LDpQKWI",
      "execution_count": 66,
      "outputs": [
        {
          "output_type": "stream",
          "name": "stdout",
          "text": [
            "+----+-----------+------------+\n",
            "|Year|   Category|TotalRevenue|\n",
            "+----+-----------+------------+\n",
            "|2021|      Books|     39300.0|\n",
            "|2023|   Clothing|     51800.0|\n",
            "|2022|   Clothing|     61000.0|\n",
            "|2023|       Home|     83700.0|\n",
            "|2020|     Sports|     80220.0|\n",
            "|2020|Electronics|    127100.0|\n",
            "|2023|Electronics|    134900.0|\n",
            "|2021|       Home|     89400.0|\n",
            "|2021|     Sports|     75840.0|\n",
            "|2020|   Clothing|     64100.0|\n",
            "|2023|     Sports|     77460.0|\n",
            "|2021|   Clothing|     65150.0|\n",
            "|2022|       Home|     95925.0|\n",
            "|2021|Electronics|    121200.0|\n",
            "|2020|       Home|     90075.0|\n",
            "|2020|      Books|     35250.0|\n",
            "|2022|     Sports|     76380.0|\n",
            "|2022|      Books|     41670.0|\n",
            "|2023|      Books|     36450.0|\n",
            "|2022|Electronics|    126800.0|\n",
            "+----+-----------+------------+\n",
            "\n"
          ]
        }
      ]
    },
    {
      "cell_type": "markdown",
      "source": [
        "###📌 Q43: Group by customer and calculate AOV"
      ],
      "metadata": {
        "id": "apSXjbaYQON7"
      },
      "id": "apSXjbaYQON7"
    },
    {
      "cell_type": "code",
      "source": [
        "df.groupBy(\"CustomerID\").agg(round(avg(\"Revenue\"), 2).alias(\"AvgOrderValue\")).show()\n"
      ],
      "metadata": {
        "colab": {
          "base_uri": "https://localhost:8080/"
        },
        "id": "I37eZ39zQU3O",
        "outputId": "b9791c51-45c5-4dee-d111-9b87b662a704"
      },
      "id": "I37eZ39zQU3O",
      "execution_count": 67,
      "outputs": [
        {
          "output_type": "stream",
          "name": "stdout",
          "text": [
            "+----------+-------------+\n",
            "|CustomerID|AvgOrderValue|\n",
            "+----------+-------------+\n",
            "|      1645|       193.33|\n",
            "|      1829|       161.82|\n",
            "|      1959|       177.78|\n",
            "|      1580|        130.0|\n",
            "|      1238|       175.83|\n",
            "|      1088|       191.25|\n",
            "|      1591|        135.0|\n",
            "|      1342|       146.54|\n",
            "|      1460|        160.0|\n",
            "|      1896|       155.77|\n",
            "|      1127|       146.92|\n",
            "|      1395|       128.57|\n",
            "|      1483|        116.0|\n",
            "|      1507|       126.67|\n",
            "|      1084|       156.25|\n",
            "|      1025|       116.25|\n",
            "|      1522|       155.91|\n",
            "|      1990|       160.63|\n",
            "|      1721|       146.25|\n",
            "|      1270|       154.58|\n",
            "+----------+-------------+\n",
            "only showing top 20 rows\n",
            "\n"
          ]
        }
      ]
    },
    {
      "cell_type": "markdown",
      "source": [
        "###📌 Q44: Total quantity and revenue per product per year"
      ],
      "metadata": {
        "id": "9yNkJ4ONQX57"
      },
      "id": "9yNkJ4ONQX57"
    },
    {
      "cell_type": "code",
      "source": [
        "df.groupBy(\"Year\", \"ProductID\") \\\n",
        "  .agg(sum(\"Quantity\").alias(\"TotalQty\"), sum(\"Revenue\").alias(\"TotalRev\")).show()\n"
      ],
      "metadata": {
        "colab": {
          "base_uri": "https://localhost:8080/"
        },
        "id": "ispFlesEQdFL",
        "outputId": "0daa8454-5ed4-4265-8c6c-5901113ff0a0"
      },
      "id": "ispFlesEQdFL",
      "execution_count": 69,
      "outputs": [
        {
          "output_type": "stream",
          "name": "stdout",
          "text": [
            "+----+---------+--------+--------+\n",
            "|Year|ProductID|TotalQty|TotalRev|\n",
            "+----+---------+--------+--------+\n",
            "|2022|     P001|    1268|126800.0|\n",
            "|2023|     P002|    1036| 51800.0|\n",
            "|2020|     P001|    1271|127100.0|\n",
            "|2023|     P005|    1215| 36450.0|\n",
            "|2021|     P005|    1310| 39300.0|\n",
            "|2023|     P003|    1116| 83700.0|\n",
            "|2021|     P002|    1303| 65150.0|\n",
            "|2021|     P004|    1264| 75840.0|\n",
            "|2022|     P004|    1273| 76380.0|\n",
            "|2020|     P004|    1337| 80220.0|\n",
            "|2023|     P001|    1349|134900.0|\n",
            "|2020|     P003|    1201| 90075.0|\n",
            "|2020|     P005|    1175| 35250.0|\n",
            "|2021|     P003|    1192| 89400.0|\n",
            "|2020|     P002|    1282| 64100.0|\n",
            "|2022|     P002|    1220| 61000.0|\n",
            "|2022|     P003|    1279| 95925.0|\n",
            "|2021|     P001|    1212|121200.0|\n",
            "|2023|     P004|    1291| 77460.0|\n",
            "|2022|     P005|    1389| 41670.0|\n",
            "+----+---------+--------+--------+\n",
            "\n"
          ]
        }
      ]
    },
    {
      "cell_type": "markdown",
      "source": [
        "###📌 Q45: Top-selling product by quantity per year"
      ],
      "metadata": {
        "id": "JemC8tcZQpaJ"
      },
      "id": "JemC8tcZQpaJ"
    },
    {
      "cell_type": "code",
      "source": [
        "window = Window.partitionBy(\"Year\").orderBy(desc(\"Quantity\"))\n",
        "df.withColumn(\"rank\", rank().over(window)) \\\n",
        "  .filter(col(\"rank\") == 1) \\\n",
        "  .select(\"Year\", \"ProductID\", \"Quantity\").show()\n"
      ],
      "metadata": {
        "colab": {
          "base_uri": "https://localhost:8080/"
        },
        "id": "g4qp8VtXQtfC",
        "outputId": "53d205ff-724e-4da5-f7de-600012e742ce"
      },
      "id": "g4qp8VtXQtfC",
      "execution_count": 71,
      "outputs": [
        {
          "output_type": "stream",
          "name": "stdout",
          "text": [
            "+----+---------+--------+\n",
            "|Year|ProductID|Quantity|\n",
            "+----+---------+--------+\n",
            "|2020|     P002|       4|\n",
            "|2020|     P004|       4|\n",
            "|2020|     P002|       4|\n",
            "|2020|     P005|       4|\n",
            "|2020|     P002|       4|\n",
            "|2020|     P001|       4|\n",
            "|2020|     P005|       4|\n",
            "|2020|     P001|       4|\n",
            "|2020|     P002|       4|\n",
            "|2020|     P002|       4|\n",
            "|2020|     P003|       4|\n",
            "|2020|     P001|       4|\n",
            "|2020|     P005|       4|\n",
            "|2020|     P002|       4|\n",
            "|2020|     P004|       4|\n",
            "|2020|     P005|       4|\n",
            "|2020|     P005|       4|\n",
            "|2020|     P002|       4|\n",
            "|2020|     P002|       4|\n",
            "|2020|     P004|       4|\n",
            "+----+---------+--------+\n",
            "only showing top 20 rows\n",
            "\n"
          ]
        }
      ]
    },
    {
      "cell_type": "markdown",
      "source": [
        "###📌 Q46: Save monthly revenue summary as a CSV"
      ],
      "metadata": {
        "id": "V6n6bKcPQ41Y"
      },
      "id": "V6n6bKcPQ41Y"
    },
    {
      "cell_type": "code",
      "source": [
        "monthly_revenue = df.groupBy(\"Year\", \"Month\") \\\n",
        "    .agg(sum(\"Revenue\").alias(\"TotalRevenue\")) \\\n",
        "    .orderBy(\"Year\", \"Month\")\n",
        "\n",
        "monthly_revenue.write.mode(\"overwrite\").option(\"header\", True).csv(\"output/monthly_revenue\")\n"
      ],
      "metadata": {
        "id": "ee59EwmDQ6UV"
      },
      "id": "ee59EwmDQ6UV",
      "execution_count": 72,
      "outputs": []
    },
    {
      "cell_type": "markdown",
      "source": [
        "###📌 Q47: Write customer-wise revenue totals to a Parquet file"
      ],
      "metadata": {
        "id": "NdD1VT-uQ9bf"
      },
      "id": "NdD1VT-uQ9bf"
    },
    {
      "cell_type": "code",
      "source": [
        "customer_revenue = df.groupBy(\"CustomerID\") \\\n",
        "    .agg(sum(\"Revenue\").alias(\"TotalRevenue\"))\n",
        "\n",
        "customer_revenue.write.mode(\"overwrite\").parquet(\"output/customer_revenue_totals\")\n"
      ],
      "metadata": {
        "id": "WYyUf3E2RAnO"
      },
      "id": "WYyUf3E2RAnO",
      "execution_count": 73,
      "outputs": []
    },
    {
      "cell_type": "markdown",
      "source": [
        "###📌 Q48: Export a summary table showing number of transactions per year"
      ],
      "metadata": {
        "id": "G7HBhsmERKo6"
      },
      "id": "G7HBhsmERKo6"
    },
    {
      "cell_type": "code",
      "source": [
        "transactions_per_year = df.groupBy(\"Year\").count()\n",
        "\n",
        "transactions_per_year.write.mode(\"overwrite\").option(\"header\", True).csv(\"output/transactions_per_year\")\n"
      ],
      "metadata": {
        "id": "Zh_6kFOjRNWk"
      },
      "id": "Zh_6kFOjRNWk",
      "execution_count": 74,
      "outputs": []
    },
    {
      "cell_type": "markdown",
      "source": [
        "###📌 Q49: Export a table with category vs year as a pivot with total revenue"
      ],
      "metadata": {
        "id": "yzzIWEcWRP6b"
      },
      "id": "yzzIWEcWRP6b"
    },
    {
      "cell_type": "code",
      "source": [
        "pivot_table = df.groupBy(\"Category\", \"Year\") \\\n",
        "    .agg(sum(\"Revenue\").alias(\"TotalRevenue\")) \\\n",
        "    .groupBy(\"Category\") \\\n",
        "    .pivot(\"Year\") \\\n",
        "    .sum(\"TotalRevenue\")\n",
        "\n",
        "pivot_table.write.mode(\"overwrite\").option(\"header\", True).csv(\"output/category_year_revenue_pivot\")\n"
      ],
      "metadata": {
        "id": "_trxGKyLRTbK"
      },
      "id": "_trxGKyLRTbK",
      "execution_count": 75,
      "outputs": []
    },
    {
      "cell_type": "markdown",
      "source": [
        "###📌 Q50: Save all high-value transactions (Revenue > ₹250) to a new CSV"
      ],
      "metadata": {
        "id": "AiawL5JORWRy"
      },
      "id": "AiawL5JORWRy"
    },
    {
      "cell_type": "code",
      "source": [
        "high_value_txns = df.filter(col(\"Revenue\") > 250)\n",
        "\n",
        "high_value_txns.write.mode(\"overwrite\").option(\"header\", True).csv(\"output/high_value_transactions\")\n"
      ],
      "metadata": {
        "id": "OoJarXXRRZ5g"
      },
      "id": "OoJarXXRRZ5g",
      "execution_count": 76,
      "outputs": []
    },
    {
      "cell_type": "markdown",
      "source": [
        "### Create the customer_metadata DataFrame"
      ],
      "metadata": {
        "id": "R-R6c9uCRcRQ"
      },
      "id": "R-R6c9uCRcRQ"
    },
    {
      "cell_type": "code",
      "source": [
        "from pyspark.sql import Row\n",
        "\n",
        "# Sample metadata for illustration\n",
        "metadata_rows = [\n",
        "    Row(CustomerID=1012, Gender=\"Male\", AgeGroup=\"25-34\"),\n",
        "    Row(CustomerID=1095, Gender=\"Female\", AgeGroup=\"35-44\"),\n",
        "    Row(CustomerID=1001, Gender=\"Male\", AgeGroup=\"18-24\")\n",
        "]\n",
        "\n",
        "customer_metadata = spark.createDataFrame(metadata_rows)\n",
        "customer_metadata.show()\n"
      ],
      "metadata": {
        "colab": {
          "base_uri": "https://localhost:8080/"
        },
        "id": "V2BcqepyRkI_",
        "outputId": "a9576da4-2eb6-4957-acaa-7f5361262664"
      },
      "id": "V2BcqepyRkI_",
      "execution_count": 77,
      "outputs": [
        {
          "output_type": "stream",
          "name": "stdout",
          "text": [
            "+----------+------+--------+\n",
            "|CustomerID|Gender|AgeGroup|\n",
            "+----------+------+--------+\n",
            "|      1012|  Male|   25-34|\n",
            "|      1095|Female|   35-44|\n",
            "|      1001|  Male|   18-24|\n",
            "+----------+------+--------+\n",
            "\n"
          ]
        }
      ]
    },
    {
      "cell_type": "markdown",
      "source": [
        "###📌 Q51: Total revenue generated by each gender"
      ],
      "metadata": {
        "id": "fVjheaHFRod0"
      },
      "id": "fVjheaHFRod0"
    },
    {
      "cell_type": "code",
      "source": [
        "joined_df = df.join(customer_metadata, on=\"CustomerID\", how=\"inner\")\n",
        "\n",
        "joined_df.groupBy(\"Gender\").agg(sum(\"Revenue\").alias(\"TotalRevenue\")).show()\n"
      ],
      "metadata": {
        "colab": {
          "base_uri": "https://localhost:8080/"
        },
        "id": "dyjaCL51RsGc",
        "outputId": "03cce539-568a-4ce1-929b-429796c342d4"
      },
      "id": "dyjaCL51RsGc",
      "execution_count": 78,
      "outputs": [
        {
          "output_type": "stream",
          "name": "stdout",
          "text": [
            "+------+------------+\n",
            "|Gender|TotalRevenue|\n",
            "+------+------------+\n",
            "|  Male|      3615.0|\n",
            "|Female|      1560.0|\n",
            "+------+------------+\n",
            "\n"
          ]
        }
      ]
    },
    {
      "cell_type": "markdown",
      "source": [
        "###📌 Q52: Identify customers who made at least one transaction every year (2020–2023)"
      ],
      "metadata": {
        "id": "Bblyb78ORuuE"
      },
      "id": "Bblyb78ORuuE"
    },
    {
      "cell_type": "code",
      "source": [
        "years_active = df.select(\"CustomerID\", \"Year\").distinct() \\\n",
        "    .groupBy(\"CustomerID\").agg(countDistinct(\"Year\").alias(\"Years\"))\n",
        "\n",
        "years_active.filter(col(\"Years\") == 4).select(\"CustomerID\").show()\n"
      ],
      "metadata": {
        "colab": {
          "base_uri": "https://localhost:8080/"
        },
        "id": "VcV9jFbmRxU8",
        "outputId": "82cacaad-6642-42eb-b5a6-772a1b2cd67b"
      },
      "id": "VcV9jFbmRxU8",
      "execution_count": 79,
      "outputs": [
        {
          "output_type": "stream",
          "name": "stdout",
          "text": [
            "+----------+\n",
            "|CustomerID|\n",
            "+----------+\n",
            "|      1580|\n",
            "|      1645|\n",
            "|      1342|\n",
            "|      1238|\n",
            "|      1025|\n",
            "|      1721|\n",
            "|      1507|\n",
            "|      1990|\n",
            "|      1896|\n",
            "|      1127|\n",
            "|      1618|\n",
            "|      1352|\n",
            "|      1139|\n",
            "|      1270|\n",
            "|      1699|\n",
            "|      1339|\n",
            "|      1975|\n",
            "|      1265|\n",
            "|      1884|\n",
            "|      1223|\n",
            "+----------+\n",
            "only showing top 20 rows\n",
            "\n"
          ]
        }
      ]
    },
    {
      "cell_type": "markdown",
      "source": [
        "###📌 Q53: Product each customer spent the most on"
      ],
      "metadata": {
        "id": "Tldy-UeVR09r"
      },
      "id": "Tldy-UeVR09r"
    },
    {
      "cell_type": "code",
      "source": [
        "from pyspark.sql.window import Window\n",
        "spending = df.groupBy(\"CustomerID\", \"ProductID\") \\\n",
        "    .agg(sum(\"Revenue\").alias(\"TotalSpend\"))\n",
        "\n",
        "rank_window = Window.partitionBy(\"CustomerID\").orderBy(desc(\"TotalSpend\"))\n",
        "\n",
        "spending.withColumn(\"rank\", rank().over(rank_window)) \\\n",
        "    .filter(col(\"rank\") == 1) \\\n",
        "    .select(\"CustomerID\", \"ProductID\", \"TotalSpend\").show()\n"
      ],
      "metadata": {
        "colab": {
          "base_uri": "https://localhost:8080/"
        },
        "id": "5G5JbRjmR5cu",
        "outputId": "42e1d85f-e318-46e7-8320-b6a8662e48f8"
      },
      "id": "5G5JbRjmR5cu",
      "execution_count": 82,
      "outputs": [
        {
          "output_type": "stream",
          "name": "stdout",
          "text": [
            "+----------+---------+----------+\n",
            "|CustomerID|ProductID|TotalSpend|\n",
            "+----------+---------+----------+\n",
            "|      1000|     P001|     700.0|\n",
            "|      1001|     P001|     800.0|\n",
            "|      1002|     P001|     800.0|\n",
            "|      1003|     P001|    1100.0|\n",
            "|      1004|     P003|     975.0|\n",
            "|      1005|     P001|     600.0|\n",
            "|      1006|     P001|     500.0|\n",
            "|      1007|     P001|     600.0|\n",
            "|      1008|     P004|     240.0|\n",
            "|      1009|     P001|    1300.0|\n",
            "|      1010|     P001|     800.0|\n",
            "|      1011|     P001|     600.0|\n",
            "|      1011|     P004|     600.0|\n",
            "|      1012|     P004|     780.0|\n",
            "|      1013|     P002|     300.0|\n",
            "|      1014|     P001|     600.0|\n",
            "|      1015|     P001|     300.0|\n",
            "|      1015|     P004|     300.0|\n",
            "|      1016|     P001|     700.0|\n",
            "|      1017|     P004|     420.0|\n",
            "+----------+---------+----------+\n",
            "only showing top 20 rows\n",
            "\n"
          ]
        }
      ]
    },
    {
      "cell_type": "markdown",
      "source": [
        "###📌 Q54: Product Affinity — Pairs of products bought by same customer"
      ],
      "metadata": {
        "id": "TZuYYD5ER_2q"
      },
      "id": "TZuYYD5ER_2q"
    },
    {
      "cell_type": "code",
      "source": [
        "df1 = df.select(\"CustomerID\", \"ProductID\").distinct().alias(\"a\")\n",
        "df2 = df.select(\"CustomerID\", \"ProductID\").distinct().alias(\"b\")\n",
        "\n",
        "product_pairs = df1.join(df2, on=\"CustomerID\") \\\n",
        "    .filter(col(\"a.ProductID\") < col(\"b.ProductID\")) \\\n",
        "    .groupBy(\"a.ProductID\", \"b.ProductID\") \\\n",
        "    .agg(countDistinct(\"CustomerID\").alias(\"CustomerCount\"))\n",
        "\n",
        "product_pairs.show()\n"
      ],
      "metadata": {
        "colab": {
          "base_uri": "https://localhost:8080/"
        },
        "id": "Gjslx_vmSCY-",
        "outputId": "e4a3611b-7402-4839-e992-01301931d5ec"
      },
      "id": "Gjslx_vmSCY-",
      "execution_count": 84,
      "outputs": [
        {
          "output_type": "stream",
          "name": "stdout",
          "text": [
            "+---------+---------+-------------+\n",
            "|ProductID|ProductID|CustomerCount|\n",
            "+---------+---------+-------------+\n",
            "|     P001|     P004|          752|\n",
            "|     P003|     P005|          747|\n",
            "|     P001|     P003|          733|\n",
            "|     P002|     P003|          730|\n",
            "|     P001|     P002|          741|\n",
            "|     P002|     P005|          756|\n",
            "|     P001|     P005|          764|\n",
            "|     P002|     P004|          761|\n",
            "|     P004|     P005|          773|\n",
            "|     P003|     P004|          745|\n",
            "+---------+---------+-------------+\n",
            "\n"
          ]
        }
      ]
    },
    {
      "cell_type": "markdown",
      "source": [
        "###📌 Q55: Customers who bought in 2020/21 but NOT in 2022/23"
      ],
      "metadata": {
        "id": "yGPw3RA4SLM0"
      },
      "id": "yGPw3RA4SLM0"
    },
    {
      "cell_type": "code",
      "source": [
        "from pyspark.sql.functions import collect_set\n",
        "\n",
        "customer_years = df.select(\"CustomerID\", \"Year\").distinct() \\\n",
        "    .groupBy(\"CustomerID\").agg(collect_set(\"Year\").alias(\"Years\"))\n",
        "\n",
        "churned = customer_years.filter(\n",
        "    array_contains(col(\"Years\"), 2020) | array_contains(col(\"Years\"), 2021)\n",
        ").filter(\n",
        "    ~array_contains(col(\"Years\"), 2022) & ~array_contains(col(\"Years\"), 2023)\n",
        ")\n",
        "\n",
        "churned.select(\"CustomerID\").show()\n"
      ],
      "metadata": {
        "colab": {
          "base_uri": "https://localhost:8080/"
        },
        "id": "3Whw-lCxSNmw",
        "outputId": "725c8209-6c6a-427d-85d4-ac3e4645faa1"
      },
      "id": "3Whw-lCxSNmw",
      "execution_count": 85,
      "outputs": [
        {
          "output_type": "stream",
          "name": "stdout",
          "text": [
            "+----------+\n",
            "|CustomerID|\n",
            "+----------+\n",
            "|      1109|\n",
            "|      1218|\n",
            "|      1271|\n",
            "|      1331|\n",
            "|      1447|\n",
            "|      1544|\n",
            "|      1940|\n",
            "+----------+\n",
            "\n"
          ]
        }
      ]
    },
    {
      "cell_type": "markdown",
      "source": [
        "###📌 Q56: Upsell Detection — Low-value in 1st year & high-value later"
      ],
      "metadata": {
        "id": "Hukjsi1KSQ8S"
      },
      "id": "Hukjsi1KSQ8S"
    },
    {
      "cell_type": "code",
      "source": [
        "from pyspark.sql.functions import min as min_, max as max_\n",
        "\n",
        "first_last_txns = df.groupBy(\"CustomerID\", \"Year\") \\\n",
        "    .agg(min_(\"Revenue\").alias(\"MinRev\"), max_(\"Revenue\").alias(\"MaxRev\"))\n",
        "\n",
        "low_then_high = first_last_txns.groupBy(\"CustomerID\") \\\n",
        "    .agg(min_(\"MinRev\").alias(\"FirstLow\"), max_(\"MaxRev\").alias(\"LaterHigh\")) \\\n",
        "    .filter((col(\"FirstLow\") < 100) & (col(\"LaterHigh\") > 300))\n",
        "\n",
        "low_then_high.show()\n"
      ],
      "metadata": {
        "colab": {
          "base_uri": "https://localhost:8080/"
        },
        "id": "w9sv2XW2SUp8",
        "outputId": "17628eb1-0e6d-48bc-df8d-3cd7994542aa"
      },
      "id": "w9sv2XW2SUp8",
      "execution_count": 86,
      "outputs": [
        {
          "output_type": "stream",
          "name": "stdout",
          "text": [
            "+----------+--------+---------+\n",
            "|CustomerID|FirstLow|LaterHigh|\n",
            "+----------+--------+---------+\n",
            "|      1829|    30.0|    400.0|\n",
            "|      1591|    30.0|    400.0|\n",
            "|      1238|    60.0|    400.0|\n",
            "|      1025|    50.0|    400.0|\n",
            "|      1522|    60.0|    400.0|\n",
            "|      1303|    30.0|    400.0|\n",
            "|      1270|    60.0|    400.0|\n",
            "|      1699|    30.0|    400.0|\n",
            "|      1143|    50.0|    400.0|\n",
            "|      1223|    30.0|    400.0|\n",
            "|      1157|    30.0|    400.0|\n",
            "|      1766|    60.0|    400.0|\n",
            "|      1133|    60.0|    400.0|\n",
            "|      1016|    60.0|    400.0|\n",
            "|      1005|    30.0|    400.0|\n",
            "|      1160|    60.0|    400.0|\n",
            "|      1468|    30.0|    400.0|\n",
            "|      1417|    75.0|    400.0|\n",
            "|      1525|    60.0|    400.0|\n",
            "|      1863|    50.0|    400.0|\n",
            "+----------+--------+---------+\n",
            "only showing top 20 rows\n",
            "\n"
          ]
        }
      ]
    },
    {
      "cell_type": "markdown",
      "source": [
        "###📌 Q57: Product category switched year to year"
      ],
      "metadata": {
        "id": "gxK3w2MxSYJj"
      },
      "id": "gxK3w2MxSYJj"
    },
    {
      "cell_type": "code",
      "source": [
        "spending = df.groupBy(\"CustomerID\", \"Year\", \"Category\") \\\n",
        "    .agg(sum(\"Revenue\").alias(\"Total\"))\n",
        "\n",
        "win = Window.partitionBy(\"CustomerID\", \"Year\").orderBy(desc(\"Total\"))\n",
        "\n",
        "top_category = spending.withColumn(\"rank\", rank().over(win)) \\\n",
        "    .filter(col(\"rank\") == 1)\n",
        "\n",
        "switched = top_category.groupBy(\"CustomerID\") \\\n",
        "    .agg(collect_set(\"Category\").alias(\"Categories\")) \\\n",
        "    .filter(size(\"Categories\") > 1)\n",
        "\n",
        "switched.show()\n"
      ],
      "metadata": {
        "colab": {
          "base_uri": "https://localhost:8080/"
        },
        "id": "nIRyAz5eSakQ",
        "outputId": "2bd883d0-bcd2-4df3-bdde-a2c6a38455f3"
      },
      "id": "nIRyAz5eSakQ",
      "execution_count": 87,
      "outputs": [
        {
          "output_type": "stream",
          "name": "stdout",
          "text": [
            "+----------+--------------------+\n",
            "|CustomerID|          Categories|\n",
            "+----------+--------------------+\n",
            "|      1000|[Clothing, Electr...|\n",
            "|      1001|[Sports, Electron...|\n",
            "|      1002|[Electronics, Boo...|\n",
            "|      1004|[Sports, Electron...|\n",
            "|      1005|[Sports, Electron...|\n",
            "|      1006|[Sports, Electron...|\n",
            "|      1007|[Sports, Electron...|\n",
            "|      1008|[Sports, Electron...|\n",
            "|      1009|[Sports, Electron...|\n",
            "|      1010|[Clothing, Electr...|\n",
            "|      1011|[Sports, Electron...|\n",
            "|      1012|      [Sports, Home]|\n",
            "|      1013|[Clothing, Sports...|\n",
            "|      1014|[Clothing, Electr...|\n",
            "|      1015|[Sports, Electron...|\n",
            "|      1016|[Sports, Electron...|\n",
            "|      1017|[Sports, Electron...|\n",
            "|      1018|[Clothing, Electr...|\n",
            "|      1019|[Sports, Books, H...|\n",
            "|      1020|[Sports, Electron...|\n",
            "+----------+--------------------+\n",
            "only showing top 20 rows\n",
            "\n"
          ]
        }
      ]
    },
    {
      "cell_type": "markdown",
      "source": [
        "###📌 Q58: Year-over-year revenue growth per category"
      ],
      "metadata": {
        "id": "0qdMjke1Sdih"
      },
      "id": "0qdMjke1Sdih"
    },
    {
      "cell_type": "code",
      "source": [
        "category_revenue = df.groupBy(\"Year\", \"Category\") \\\n",
        "    .agg(sum(\"Revenue\").alias(\"Revenue\"))\n",
        "\n",
        "window = Window.partitionBy(\"Category\").orderBy(\"Year\")\n",
        "\n",
        "growth = category_revenue.withColumn(\"PrevRevenue\", lag(\"Revenue\").over(window)) \\\n",
        "    .withColumn(\"GrowthPct\", round(((col(\"Revenue\") - col(\"PrevRevenue\")) / col(\"PrevRevenue\")) * 100, 2))\n",
        "\n",
        "growth.filter(col(\"PrevRevenue\").isNotNull()).show()\n"
      ],
      "metadata": {
        "colab": {
          "base_uri": "https://localhost:8080/"
        },
        "id": "hJFg5mx9SfvC",
        "outputId": "f9daf253-c711-4854-df72-3ab7531c7a13"
      },
      "id": "hJFg5mx9SfvC",
      "execution_count": 88,
      "outputs": [
        {
          "output_type": "stream",
          "name": "stdout",
          "text": [
            "+----+-----------+--------+-----------+---------+\n",
            "|Year|   Category| Revenue|PrevRevenue|GrowthPct|\n",
            "+----+-----------+--------+-----------+---------+\n",
            "|2021|      Books| 39300.0|    35250.0|    11.49|\n",
            "|2022|      Books| 41670.0|    39300.0|     6.03|\n",
            "|2023|      Books| 36450.0|    41670.0|   -12.53|\n",
            "|2021|   Clothing| 65150.0|    64100.0|     1.64|\n",
            "|2022|   Clothing| 61000.0|    65150.0|    -6.37|\n",
            "|2023|   Clothing| 51800.0|    61000.0|   -15.08|\n",
            "|2021|Electronics|121200.0|   127100.0|    -4.64|\n",
            "|2022|Electronics|126800.0|   121200.0|     4.62|\n",
            "|2023|Electronics|134900.0|   126800.0|     6.39|\n",
            "|2021|       Home| 89400.0|    90075.0|    -0.75|\n",
            "|2022|       Home| 95925.0|    89400.0|      7.3|\n",
            "|2023|       Home| 83700.0|    95925.0|   -12.74|\n",
            "|2021|     Sports| 75840.0|    80220.0|    -5.46|\n",
            "|2022|     Sports| 76380.0|    75840.0|     0.71|\n",
            "|2023|     Sports| 77460.0|    76380.0|     1.41|\n",
            "+----+-----------+--------+-----------+---------+\n",
            "\n"
          ]
        }
      ]
    },
    {
      "cell_type": "markdown",
      "source": [
        "###📌 Q59: Customers who purchased from 3+ categories"
      ],
      "metadata": {
        "id": "DK2_bzjASiCu"
      },
      "id": "DK2_bzjASiCu"
    },
    {
      "cell_type": "code",
      "source": [
        "df.groupBy(\"CustomerID\").agg(countDistinct(\"Category\").alias(\"CategoryCount\")) \\\n",
        "  .filter(col(\"CategoryCount\") >= 3).show()\n"
      ],
      "metadata": {
        "colab": {
          "base_uri": "https://localhost:8080/"
        },
        "id": "1Ns9aQCcSkj6",
        "outputId": "cf2a187a-cf08-4a94-9e17-2595c14e3751"
      },
      "id": "1Ns9aQCcSkj6",
      "execution_count": 89,
      "outputs": [
        {
          "output_type": "stream",
          "name": "stdout",
          "text": [
            "+----------+-------------+\n",
            "|CustomerID|CategoryCount|\n",
            "+----------+-------------+\n",
            "|      1580|            4|\n",
            "|      1645|            4|\n",
            "|      1342|            5|\n",
            "|      1959|            5|\n",
            "|      1238|            5|\n",
            "|      1829|            5|\n",
            "|      1591|            4|\n",
            "|      1088|            4|\n",
            "|      1127|            5|\n",
            "|      1990|            4|\n",
            "|      1507|            5|\n",
            "|      1896|            5|\n",
            "|      1721|            4|\n",
            "|      1025|            5|\n",
            "|      1395|            4|\n",
            "|      1522|            5|\n",
            "|      1084|            4|\n",
            "|      1483|            3|\n",
            "|      1460|            4|\n",
            "|      1143|            5|\n",
            "+----------+-------------+\n",
            "only showing top 20 rows\n",
            "\n"
          ]
        }
      ]
    },
    {
      "cell_type": "markdown",
      "source": [
        "###📌 Q60: Last transaction category per customer"
      ],
      "metadata": {
        "id": "rGjFi9CPSmyS"
      },
      "id": "rGjFi9CPSmyS"
    },
    {
      "cell_type": "code",
      "source": [
        "window = Window.partitionBy(\"CustomerID\").orderBy(desc(\"TransactionDate\"))\n",
        "\n",
        "df.withColumn(\"rank\", rank().over(window)) \\\n",
        "  .filter(col(\"rank\") == 1) \\\n",
        "  .select(\"CustomerID\", \"Category\", \"TransactionDate\").show()\n"
      ],
      "metadata": {
        "id": "9nhIl6khSpP4",
        "outputId": "8755f366-16d2-4f37-b508-9492effebf33",
        "colab": {
          "base_uri": "https://localhost:8080/"
        }
      },
      "id": "9nhIl6khSpP4",
      "execution_count": 90,
      "outputs": [
        {
          "output_type": "stream",
          "name": "stdout",
          "text": [
            "+----------+-----------+-------------------+\n",
            "|CustomerID|   Category|    TransactionDate|\n",
            "+----------+-----------+-------------------+\n",
            "|      1000|      Books|2023-12-21 18:00:00|\n",
            "|      1001|      Books|2023-03-15 16:00:00|\n",
            "|      1002|Electronics|2023-05-14 12:00:00|\n",
            "|      1003|   Clothing|2022-11-09 00:00:00|\n",
            "|      1004|       Home|2023-12-18 03:00:00|\n",
            "|      1005|       Home|2023-04-18 15:00:00|\n",
            "|      1006|   Clothing|2023-09-20 16:00:00|\n",
            "|      1007|      Books|2023-09-04 06:00:00|\n",
            "|      1008|      Books|2023-12-27 17:00:00|\n",
            "|      1009|     Sports|2023-08-05 13:00:00|\n",
            "|      1010|Electronics|2023-09-09 00:00:00|\n",
            "|      1011|      Books|2023-11-14 10:00:00|\n",
            "|      1012|     Sports|2023-09-27 01:00:00|\n",
            "|      1013|     Sports|2023-11-05 01:00:00|\n",
            "|      1014|Electronics|2022-09-25 04:00:00|\n",
            "|      1015|Electronics|2023-05-14 19:00:00|\n",
            "|      1016|      Books|2023-11-10 20:00:00|\n",
            "|      1017|       Home|2023-09-08 22:00:00|\n",
            "|      1018|       Home|2023-05-24 03:00:00|\n",
            "|      1019|       Home|2023-06-24 02:00:00|\n",
            "+----------+-----------+-------------------+\n",
            "only showing top 20 rows\n",
            "\n"
          ]
        }
      ]
    }
  ],
  "metadata": {
    "colab": {
      "provenance": []
    },
    "language_info": {
      "name": "python"
    },
    "kernelspec": {
      "name": "python3",
      "display_name": "Python 3"
    }
  },
  "nbformat": 4,
  "nbformat_minor": 5
}