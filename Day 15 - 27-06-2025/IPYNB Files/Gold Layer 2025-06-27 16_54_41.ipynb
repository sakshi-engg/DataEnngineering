{
 "cells": [
  {
   "cell_type": "code",
   "execution_count": 0,
   "metadata": {
    "application/vnd.databricks.v1+cell": {
     "cellMetadata": {
      "byteLimit": 2048000,
      "rowLimit": 10000
     },
     "inputWidgets": {},
     "nuid": "dc8ac442-b158-4dbc-8c00-1a6fcf7ad30d",
     "showTitle": false,
     "tableResultSettingsMap": {},
     "title": ""
    }
   },
   "outputs": [],
   "source": [
    "from pyspark.sql.functions import avg, count, col\n",
    "\n",
    "#Read Silver Delta Table\n",
    "df_silver = spark.read.format(\"delta\").load(\"/FileStore/lending/silver/delta\")"
   ]
  },
  {
   "cell_type": "code",
   "execution_count": 0,
   "metadata": {
    "application/vnd.databricks.v1+cell": {
     "cellMetadata": {
      "byteLimit": 2048000,
      "rowLimit": 10000
     },
     "inputWidgets": {},
     "nuid": "a03d2ca8-4879-4e91-8ff3-e9cc347a24fe",
     "showTitle": false,
     "tableResultSettingsMap": {},
     "title": ""
    }
   },
   "outputs": [],
   "source": [
    "\n",
    "#  Aggregation Example 1 – Loan amount & interest rate by grade\n",
    "loan_summary_by_grade = df_silver.groupBy(\"grade\").agg(\n",
    "    avg(\"loan_amnt\").alias(\"avg_loan_amount\"),\n",
    "    avg(\"int_rate\").alias(\"avg_interest_rate\")\n",
    ")\n",
    "\n",
    "# Save to Gold Layer\n",
    "loan_summary_by_grade.write.format(\"delta\").mode(\"overwrite\").save(\"/FileStore/lending/gold/loan_summary_by_grade\")\n",
    "\n"
   ]
  },
  {
   "cell_type": "code",
   "execution_count": 0,
   "metadata": {
    "application/vnd.databricks.v1+cell": {
     "cellMetadata": {
      "byteLimit": 2048000,
      "rowLimit": 10000
     },
     "inputWidgets": {},
     "nuid": "a6c86c01-a900-4578-b637-05748c0d3bfc",
     "showTitle": false,
     "tableResultSettingsMap": {},
     "title": ""
    }
   },
   "outputs": [],
   "source": [
    "#Aggregation Example 2 – Default count by loan status\n",
    "loan_status_counts = df_silver.groupBy(\"loan_status\").count()\n",
    "\n",
    "# Save to Gold Layer\n",
    "loan_status_counts.write.format(\"delta\").mode(\"overwrite\").save(\"/FileStore/lending/gold/loan_status_counts\")\n"
   ]
  },
  {
   "cell_type": "code",
   "execution_count": 0,
   "metadata": {
    "application/vnd.databricks.v1+cell": {
     "cellMetadata": {
      "byteLimit": 2048000,
      "rowLimit": 10000
     },
     "inputWidgets": {},
     "nuid": "5c3a5daa-7b9b-4c39-bf04-4bd382301c17",
     "showTitle": false,
     "tableResultSettingsMap": {},
     "title": ""
    }
   },
   "outputs": [],
   "source": [
    "# Aggregation Example 3 – Average DTI by home ownership\n",
    "dti_by_home = df_silver.groupBy(\"home_ownership\").agg(\n",
    "    avg(\"dti\").alias(\"avg_dti\")\n",
    ")\n",
    "\n",
    "# Save to Gold Layer\n",
    "dti_by_home.write.format(\"delta\").mode(\"overwrite\").save(\"/FileStore/lending/gold/dti_by_home_ownership\")\n"
   ]
  },
  {
   "cell_type": "code",
   "execution_count": 0,
   "metadata": {
    "application/vnd.databricks.v1+cell": {
     "cellMetadata": {
      "byteLimit": 2048000,
      "rowLimit": 10000
     },
     "inputWidgets": {},
     "nuid": "91a69b67-f709-4c7a-9ef3-9c2ef4a5b8e2",
     "showTitle": false,
     "tableResultSettingsMap": {},
     "title": ""
    }
   },
   "outputs": [
    {
     "output_type": "stream",
     "name": "stdout",
     "output_type": "stream",
     "text": [
      "Loan Summary by Grade:\n+-----+------------------+------------------+\n|grade|   avg_loan_amount| avg_interest_rate|\n+-----+------------------+------------------+\n|    F| 19124.64653110048| 25.45409066985592|\n|    E|17453.078391907933| 21.82965253356323|\n|    B| 14173.33819852703| 10.67580623818657|\n|    D| 15711.98300680591|18.143067189846647|\n|    C|15038.083317821778|14.143688622323502|\n|    A|14603.343209545825| 7.084545374764227|\n|    G|20383.988740959896|28.074255424062848|\n+-----+------------------+------------------+\n\nLoan Status Counts:\n+--------------------+-------+\n|         loan_status|  count|\n+--------------------+-------+\n|          Fully Paid|1076751|\n|             Default|     40|\n|     In Grace Period|   8436|\n|Does not meet the...|   1988|\n|         Charged Off| 268558|\n|  Late (31-120 days)|  21467|\n|             Current| 878317|\n|Does not meet the...|    761|\n|   Late (16-30 days)|   4349|\n|            Oct-2015|      1|\n+--------------------+-------+\n\nAverage DTI by Home Ownership:\n+--------------+------------------+\n|home_ownership|           avg_dti|\n+--------------+------------------+\n|           OWN|19.096916330565303|\n|          RENT|18.321027439692315|\n|      MORTGAGE| 19.17011531831442|\n|           ANY| 18.07481927710843|\n|         OTHER|14.342044198895026|\n|          NONE|20.157407407407405|\n|       2 years|              NULL|\n+--------------+------------------+\n\n"
     ]
    }
   ],
   "source": [
    "#Show the first results\n",
    "print(\"Loan Summary by Grade:\")\n",
    "loan_summary_by_grade.show()\n",
    "\n",
    "print(\"Loan Status Counts:\")\n",
    "loan_status_counts.show()\n",
    "\n",
    "print(\"Average DTI by Home Ownership:\")\n",
    "dti_by_home.show()"
   ]
  }
 ],
 "metadata": {
  "application/vnd.databricks.v1+notebook": {
   "computePreferences": null,
   "dashboards": [],
   "environmentMetadata": {
    "base_environment": "",
    "environment_version": "2"
   },
   "inputWidgetPreferences": null,
   "language": "python",
   "notebookMetadata": {
    "pythonIndentUnit": 4
   },
   "notebookName": "Gold Layer 2025-06-27 16:54:41",
   "widgets": {}
  },
  "language_info": {
   "name": "python"
  }
 },
 "nbformat": 4,
 "nbformat_minor": 0
}